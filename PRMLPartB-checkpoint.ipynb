{
 "cells": [
  {
   "cell_type": "code",
   "execution_count": 1,
   "id": "aecc4482-64c9-4fff-a297-d1813e608f82",
   "metadata": {},
   "outputs": [
    {
     "data": {
      "text/plain": [
       "'\\nPRML Assignment 1 - Part B\\n\\nSubmitted on 02 Sep 2022\\n\\n@authors: \\nViriya Duch Sam\\nCaity Ngov\\n\\n'"
      ]
     },
     "execution_count": 1,
     "metadata": {},
     "output_type": "execute_result"
    }
   ],
   "source": [
    "#!/usr/bin/env python3\n",
    "# -*- coding: utf-8 -*-\n",
    "\"\"\"\n",
    "PRML Assignment 1 - Part B\n",
    "\n",
    "Submitted on 02 Sep 2022\n",
    "\n",
    "@authors: \n",
    "Viriya Duch Sam\n",
    "Caity Ngov\n",
    "\n",
    "\"\"\""
   ]
  },
  {
   "cell_type": "markdown",
   "id": "66f77479-ee85-4fd0-bc65-d8cca73ee55f",
   "metadata": {},
   "source": [
    "# Introduction\n",
    "This report aims to apply logistic regression from FashionMNIST dataset in order to build a machine learning model which can predict different categories of clothing using pixel attributes of an image.\n",
    "\n",
    "Essentially, this is a multiclass classification problem.\n",
    "\n",
    "This dataset consists of 60,000 examples, each examples is a 28x28 grayscale image with 10 classes and it contains 785 columns.\n",
    "\n",
    "The dataset was obtained from Zalando Research via Kaggle: https://www.kaggle.com/datasets/zalando-research/fashionmnist.\n",
    "\n",
    "Each training and test example is assigned to one of the following labels:\n",
    "\n",
    "    • 0 T-shirt/top \n",
    "    • 1 Trouser \n",
    "    • 2 Pullover \n",
    "    • 3 Dress \n",
    "    • 4 Coat \n",
    "    • 5 Sandal \n",
    "    • 6 Shirt \n",
    "    • 7 Sneaker \n",
    "    • 8 Bag \n",
    "    • 9 Ankle boot"
   ]
  },
  {
   "cell_type": "markdown",
   "id": "59d9bea3-430b-4cc4-ad07-86b0f565871d",
   "metadata": {},
   "source": [
    "# Load packages"
   ]
  },
  {
   "cell_type": "code",
   "execution_count": 39,
   "id": "c19b1494-3111-47e0-add1-a6c5781eb712",
   "metadata": {},
   "outputs": [],
   "source": [
    "# Standard imports\n",
    "import os\n",
    "\n",
    "# Dependencies\n",
    "import numpy as np\n",
    "import pandas as pd \n",
    "import seaborn as sns\n",
    "import matplotlib.pyplot as plt\n",
    "from sklearn.linear_model import LogisticRegression\n",
    "from sklearn.model_selection import train_test_split\n",
    "from sklearn.metrics import classification_report, confusion_matrix"
   ]
  },
  {
   "cell_type": "markdown",
   "id": "066a0e83-e815-43dc-863e-423fb213188d",
   "metadata": {},
   "source": [
    "# Retrieving Data\n",
    "We will load the FashionMNIST dataset that we have retrieved from kaggle."
   ]
  },
  {
   "cell_type": "code",
   "execution_count": 4,
   "id": "3e3d392b-1a5a-4f2e-9e63-5a75b64e63be",
   "metadata": {},
   "outputs": [],
   "source": [
    "train = pd.read_csv(\"fashion-mnist_train.csv\")\n",
    "test = pd.read_csv(\"fashion-mnist_test.csv\")"
   ]
  },
  {
   "cell_type": "code",
   "execution_count": 5,
   "id": "07191865-231e-4b93-ba41-408676ddb117",
   "metadata": {},
   "outputs": [
    {
     "data": {
      "text/html": [
       "<div>\n",
       "<style scoped>\n",
       "    .dataframe tbody tr th:only-of-type {\n",
       "        vertical-align: middle;\n",
       "    }\n",
       "\n",
       "    .dataframe tbody tr th {\n",
       "        vertical-align: top;\n",
       "    }\n",
       "\n",
       "    .dataframe thead th {\n",
       "        text-align: right;\n",
       "    }\n",
       "</style>\n",
       "<table border=\"1\" class=\"dataframe\">\n",
       "  <thead>\n",
       "    <tr style=\"text-align: right;\">\n",
       "      <th></th>\n",
       "      <th>label</th>\n",
       "      <th>pixel1</th>\n",
       "      <th>pixel2</th>\n",
       "      <th>pixel3</th>\n",
       "      <th>pixel4</th>\n",
       "      <th>pixel5</th>\n",
       "      <th>pixel6</th>\n",
       "      <th>pixel7</th>\n",
       "      <th>pixel8</th>\n",
       "      <th>pixel9</th>\n",
       "      <th>...</th>\n",
       "      <th>pixel775</th>\n",
       "      <th>pixel776</th>\n",
       "      <th>pixel777</th>\n",
       "      <th>pixel778</th>\n",
       "      <th>pixel779</th>\n",
       "      <th>pixel780</th>\n",
       "      <th>pixel781</th>\n",
       "      <th>pixel782</th>\n",
       "      <th>pixel783</th>\n",
       "      <th>pixel784</th>\n",
       "    </tr>\n",
       "  </thead>\n",
       "  <tbody>\n",
       "    <tr>\n",
       "      <th>0</th>\n",
       "      <td>2</td>\n",
       "      <td>0</td>\n",
       "      <td>0</td>\n",
       "      <td>0</td>\n",
       "      <td>0</td>\n",
       "      <td>0</td>\n",
       "      <td>0</td>\n",
       "      <td>0</td>\n",
       "      <td>0</td>\n",
       "      <td>0</td>\n",
       "      <td>...</td>\n",
       "      <td>0</td>\n",
       "      <td>0</td>\n",
       "      <td>0</td>\n",
       "      <td>0</td>\n",
       "      <td>0</td>\n",
       "      <td>0</td>\n",
       "      <td>0</td>\n",
       "      <td>0</td>\n",
       "      <td>0</td>\n",
       "      <td>0</td>\n",
       "    </tr>\n",
       "    <tr>\n",
       "      <th>1</th>\n",
       "      <td>9</td>\n",
       "      <td>0</td>\n",
       "      <td>0</td>\n",
       "      <td>0</td>\n",
       "      <td>0</td>\n",
       "      <td>0</td>\n",
       "      <td>0</td>\n",
       "      <td>0</td>\n",
       "      <td>0</td>\n",
       "      <td>0</td>\n",
       "      <td>...</td>\n",
       "      <td>0</td>\n",
       "      <td>0</td>\n",
       "      <td>0</td>\n",
       "      <td>0</td>\n",
       "      <td>0</td>\n",
       "      <td>0</td>\n",
       "      <td>0</td>\n",
       "      <td>0</td>\n",
       "      <td>0</td>\n",
       "      <td>0</td>\n",
       "    </tr>\n",
       "    <tr>\n",
       "      <th>2</th>\n",
       "      <td>6</td>\n",
       "      <td>0</td>\n",
       "      <td>0</td>\n",
       "      <td>0</td>\n",
       "      <td>0</td>\n",
       "      <td>0</td>\n",
       "      <td>0</td>\n",
       "      <td>0</td>\n",
       "      <td>5</td>\n",
       "      <td>0</td>\n",
       "      <td>...</td>\n",
       "      <td>0</td>\n",
       "      <td>0</td>\n",
       "      <td>0</td>\n",
       "      <td>30</td>\n",
       "      <td>43</td>\n",
       "      <td>0</td>\n",
       "      <td>0</td>\n",
       "      <td>0</td>\n",
       "      <td>0</td>\n",
       "      <td>0</td>\n",
       "    </tr>\n",
       "    <tr>\n",
       "      <th>3</th>\n",
       "      <td>0</td>\n",
       "      <td>0</td>\n",
       "      <td>0</td>\n",
       "      <td>0</td>\n",
       "      <td>1</td>\n",
       "      <td>2</td>\n",
       "      <td>0</td>\n",
       "      <td>0</td>\n",
       "      <td>0</td>\n",
       "      <td>0</td>\n",
       "      <td>...</td>\n",
       "      <td>3</td>\n",
       "      <td>0</td>\n",
       "      <td>0</td>\n",
       "      <td>0</td>\n",
       "      <td>0</td>\n",
       "      <td>1</td>\n",
       "      <td>0</td>\n",
       "      <td>0</td>\n",
       "      <td>0</td>\n",
       "      <td>0</td>\n",
       "    </tr>\n",
       "    <tr>\n",
       "      <th>4</th>\n",
       "      <td>3</td>\n",
       "      <td>0</td>\n",
       "      <td>0</td>\n",
       "      <td>0</td>\n",
       "      <td>0</td>\n",
       "      <td>0</td>\n",
       "      <td>0</td>\n",
       "      <td>0</td>\n",
       "      <td>0</td>\n",
       "      <td>0</td>\n",
       "      <td>...</td>\n",
       "      <td>0</td>\n",
       "      <td>0</td>\n",
       "      <td>0</td>\n",
       "      <td>0</td>\n",
       "      <td>0</td>\n",
       "      <td>0</td>\n",
       "      <td>0</td>\n",
       "      <td>0</td>\n",
       "      <td>0</td>\n",
       "      <td>0</td>\n",
       "    </tr>\n",
       "  </tbody>\n",
       "</table>\n",
       "<p>5 rows × 785 columns</p>\n",
       "</div>"
      ],
      "text/plain": [
       "   label  pixel1  pixel2  pixel3  pixel4  pixel5  pixel6  pixel7  pixel8  \\\n",
       "0      2       0       0       0       0       0       0       0       0   \n",
       "1      9       0       0       0       0       0       0       0       0   \n",
       "2      6       0       0       0       0       0       0       0       5   \n",
       "3      0       0       0       0       1       2       0       0       0   \n",
       "4      3       0       0       0       0       0       0       0       0   \n",
       "\n",
       "   pixel9  ...  pixel775  pixel776  pixel777  pixel778  pixel779  pixel780  \\\n",
       "0       0  ...         0         0         0         0         0         0   \n",
       "1       0  ...         0         0         0         0         0         0   \n",
       "2       0  ...         0         0         0        30        43         0   \n",
       "3       0  ...         3         0         0         0         0         1   \n",
       "4       0  ...         0         0         0         0         0         0   \n",
       "\n",
       "   pixel781  pixel782  pixel783  pixel784  \n",
       "0         0         0         0         0  \n",
       "1         0         0         0         0  \n",
       "2         0         0         0         0  \n",
       "3         0         0         0         0  \n",
       "4         0         0         0         0  \n",
       "\n",
       "[5 rows x 785 columns]"
      ]
     },
     "execution_count": 5,
     "metadata": {},
     "output_type": "execute_result"
    }
   ],
   "source": [
    "# Preview train dataset\n",
    "train.head()"
   ]
  },
  {
   "cell_type": "markdown",
   "id": "95a2a587-7048-43e4-ad7c-47a8ae747158",
   "metadata": {},
   "source": [
    "# Exploring Data\n",
    "Here, we attempt to describe any special adaptation and characteristics of our data."
   ]
  },
  {
   "cell_type": "markdown",
   "id": "a87ebd05-e427-4f15-bde3-907d5f01b569",
   "metadata": {},
   "source": [
    "### View dataset information"
   ]
  },
  {
   "cell_type": "code",
   "execution_count": 6,
   "id": "d7a6497f-e000-498c-a1ed-31e73e1beab4",
   "metadata": {},
   "outputs": [
    {
     "name": "stdout",
     "output_type": "stream",
     "text": [
      "<class 'pandas.core.frame.DataFrame'>\n",
      "RangeIndex: 60000 entries, 0 to 59999\n",
      "Columns: 785 entries, label to pixel784\n",
      "dtypes: int64(785)\n",
      "memory usage: 359.3 MB\n"
     ]
    }
   ],
   "source": [
    "# Train Data Information\n",
    "train.info()"
   ]
  },
  {
   "cell_type": "code",
   "execution_count": 7,
   "id": "bdbbb43c-613a-4511-8393-6391c59f9a1e",
   "metadata": {},
   "outputs": [
    {
     "data": {
      "text/plain": [
       "Index(['label', 'pixel1', 'pixel2', 'pixel3', 'pixel4', 'pixel5', 'pixel6',\n",
       "       'pixel7', 'pixel8', 'pixel9',\n",
       "       ...\n",
       "       'pixel775', 'pixel776', 'pixel777', 'pixel778', 'pixel779', 'pixel780',\n",
       "       'pixel781', 'pixel782', 'pixel783', 'pixel784'],\n",
       "      dtype='object', length=785)"
      ]
     },
     "execution_count": 7,
     "metadata": {},
     "output_type": "execute_result"
    }
   ],
   "source": [
    "# Train data columns\n",
    "train.keys()"
   ]
  },
  {
   "cell_type": "code",
   "execution_count": 8,
   "id": "e2d53ee5-6b77-4bf9-b65f-9d7d5e3155ac",
   "metadata": {},
   "outputs": [
    {
     "data": {
      "text/plain": [
       "0    2\n",
       "1    9\n",
       "2    6\n",
       "3    0\n",
       "4    3\n",
       "5    4\n",
       "6    4\n",
       "7    5\n",
       "8    4\n",
       "9    8\n",
       "Name: label, dtype: int64"
      ]
     },
     "execution_count": 8,
     "metadata": {},
     "output_type": "execute_result"
    }
   ],
   "source": [
    "# Preview the labels of the first 10 entries. \n",
    "train.label[:10]"
   ]
  },
  {
   "cell_type": "markdown",
   "id": "7e4c1033-7a6f-47c3-9b05-f5dd0fbeac3c",
   "metadata": {},
   "source": [
    "### Labels Distribution in Train Dataset\n",
    "Here, we want to explore the distribution of of each label within our training dataset. It is important for our training data to have even class distribution, so that our output model will achieve the best possible performance."
   ]
  },
  {
   "cell_type": "code",
   "execution_count": 10,
   "id": "39d65f2c-dc64-4bad-b4b7-17ed8f8db3f3",
   "metadata": {},
   "outputs": [
    {
     "name": "stdout",
     "output_type": "stream",
     "text": [
      "Number of entries per class: Counter({2: 6000, 9: 6000, 6: 6000, 0: 6000, 3: 6000, 4: 6000, 5: 6000, 8: 6000, 7: 6000, 1: 6000})\n"
     ]
    }
   ],
   "source": [
    "from collections import Counter\n",
    "\n",
    "print('Number of entries per class:', Counter(train.label))"
   ]
  },
  {
   "cell_type": "markdown",
   "id": "0ad74558-1aa0-4e3e-a68d-76782ed8bea2",
   "metadata": {},
   "source": [
    "We see here that each label contains exactly the same amount of data (6000 entries each for 10 different classes.) We can also visualise the class distribution using seaborn function:"
   ]
  },
  {
   "cell_type": "code",
   "execution_count": 11,
   "id": "fdcdd814-b0b7-4be0-b7d4-182188503095",
   "metadata": {},
   "outputs": [
    {
     "data": {
      "text/plain": [
       "<AxesSubplot:xlabel='label', ylabel='count'>"
      ]
     },
     "execution_count": 11,
     "metadata": {},
     "output_type": "execute_result"
    },
    {
     "data": {
      "image/png": "[encoded data removed]",
      "text/plain": [
       "<Figure size 432x288 with 1 Axes>"
      ]
     },
     "metadata": {
      "needs_background": "light"
     },
     "output_type": "display_data"
    }
   ],
   "source": [
    "sns.countplot(x = train['label'])"
   ]
  },
  {
   "cell_type": "markdown",
   "id": "1c17d913-5d06-439c-8290-0513248346e7",
   "metadata": {},
   "source": [
    "## Data Preparation\n",
    "We will prepare our train dataset for model building. First, let's check the shape of our current train set."
   ]
  },
  {
   "cell_type": "code",
   "execution_count": 12,
   "id": "26cd8609-9293-450c-a8ff-2084121f9aa5",
   "metadata": {},
   "outputs": [
    {
     "data": {
      "text/plain": [
       "(60000, 785)"
      ]
     },
     "execution_count": 12,
     "metadata": {},
     "output_type": "execute_result"
    }
   ],
   "source": [
    "train.shape"
   ]
  },
  {
   "cell_type": "markdown",
   "id": "a394b732-18e3-465a-a3fb-e2dc472d4409",
   "metadata": {},
   "source": [
    "Our data columns consist of label (1 column) and 784 pixel values. We want to drop our label columns for training our model. Our pixel data columns are also one-dimensional at the moment, so we first have to reshape them into three-dimensional value in order to later generate images."
   ]
  },
  {
   "cell_type": "code",
   "execution_count": 13,
   "id": "ce602b46-ca15-40be-8d95-300f43ac3616",
   "metadata": {},
   "outputs": [],
   "source": [
    "xTrain = train.drop(['label'], axis=1).astype('float32')\n",
    "yTrain = train['label'].astype('int32')"
   ]
  },
  {
   "cell_type": "markdown",
   "id": "30bafedc-25d9-4d06-97c7-bfd4e06f7fd8",
   "metadata": {},
   "source": [
    "### Show random image and data from training set\n",
    "We will generate a series of 5 random images from our dataset. We will create a for-lopp which generates a random index within the entries of the data set and displays corresponding image and data "
   ]
  },
  {
   "cell_type": "code",
   "execution_count": 117,
   "id": "57825652-aedd-411f-8c2a-36dd13baa194",
   "metadata": {
    "tags": []
   },
   "outputs": [
    {
     "data": {
      "image/png": "[encoded data removed]",
      "text/plain": [
       "<Figure size 1800x360 with 5 Axes>"
      ]
     },
     "metadata": {
      "needs_background": "light"
     },
     "output_type": "display_data"
    }
   ],
   "source": [
    "plt.figure(figsize=(25,5))\n",
    "for idx in range(5):\n",
    " index = np.random.randint(1, xTrain.shape[0]+1)  \n",
    " label = yTrain[index]\n",
    " plt.subplot(1, 5, idx + 1)\n",
    " plt.axis(\"off\")\n",
    " plt.imshow(xTrain.values[index].reshape(28, 28))\n",
    " plt.title('Label: %i\\n' % label)"
   ]
  },
  {
   "cell_type": "markdown",
   "id": "6b342941-e4ee-4dd8-84da-13106a5b51a4",
   "metadata": {},
   "source": [
    "## Corresponding matrix"
   ]
  },
  {
   "cell_type": "code",
   "execution_count": 15,
   "id": "423026d3-f981-41ad-9947-07317de9da21",
   "metadata": {},
   "outputs": [
    {
     "data": {
      "text/html": [
       "<div>\n",
       "<style scoped>\n",
       "    .dataframe tbody tr th:only-of-type {\n",
       "        vertical-align: middle;\n",
       "    }\n",
       "\n",
       "    .dataframe tbody tr th {\n",
       "        vertical-align: top;\n",
       "    }\n",
       "\n",
       "    .dataframe thead th {\n",
       "        text-align: right;\n",
       "    }\n",
       "</style>\n",
       "<table border=\"1\" class=\"dataframe\">\n",
       "  <thead>\n",
       "    <tr style=\"text-align: right;\">\n",
       "      <th></th>\n",
       "      <th>pixel1</th>\n",
       "      <th>pixel2</th>\n",
       "      <th>pixel3</th>\n",
       "      <th>pixel4</th>\n",
       "      <th>pixel5</th>\n",
       "      <th>pixel6</th>\n",
       "      <th>pixel7</th>\n",
       "      <th>pixel8</th>\n",
       "      <th>pixel9</th>\n",
       "      <th>pixel10</th>\n",
       "      <th>...</th>\n",
       "      <th>pixel775</th>\n",
       "      <th>pixel776</th>\n",
       "      <th>pixel777</th>\n",
       "      <th>pixel778</th>\n",
       "      <th>pixel779</th>\n",
       "      <th>pixel780</th>\n",
       "      <th>pixel781</th>\n",
       "      <th>pixel782</th>\n",
       "      <th>pixel783</th>\n",
       "      <th>pixel784</th>\n",
       "    </tr>\n",
       "  </thead>\n",
       "  <tbody>\n",
       "    <tr>\n",
       "      <th>0</th>\n",
       "      <td>0.0</td>\n",
       "      <td>0.0</td>\n",
       "      <td>0.0</td>\n",
       "      <td>0.0</td>\n",
       "      <td>0.0</td>\n",
       "      <td>0.0</td>\n",
       "      <td>0.0</td>\n",
       "      <td>0.0</td>\n",
       "      <td>0.0</td>\n",
       "      <td>0.0</td>\n",
       "      <td>...</td>\n",
       "      <td>0.0</td>\n",
       "      <td>0.0</td>\n",
       "      <td>0.0</td>\n",
       "      <td>0.0</td>\n",
       "      <td>0.0</td>\n",
       "      <td>0.0</td>\n",
       "      <td>0.0</td>\n",
       "      <td>0.0</td>\n",
       "      <td>0.0</td>\n",
       "      <td>0.0</td>\n",
       "    </tr>\n",
       "    <tr>\n",
       "      <th>1</th>\n",
       "      <td>0.0</td>\n",
       "      <td>0.0</td>\n",
       "      <td>0.0</td>\n",
       "      <td>0.0</td>\n",
       "      <td>0.0</td>\n",
       "      <td>0.0</td>\n",
       "      <td>0.0</td>\n",
       "      <td>0.0</td>\n",
       "      <td>0.0</td>\n",
       "      <td>0.0</td>\n",
       "      <td>...</td>\n",
       "      <td>0.0</td>\n",
       "      <td>0.0</td>\n",
       "      <td>0.0</td>\n",
       "      <td>0.0</td>\n",
       "      <td>0.0</td>\n",
       "      <td>0.0</td>\n",
       "      <td>0.0</td>\n",
       "      <td>0.0</td>\n",
       "      <td>0.0</td>\n",
       "      <td>0.0</td>\n",
       "    </tr>\n",
       "    <tr>\n",
       "      <th>2</th>\n",
       "      <td>0.0</td>\n",
       "      <td>0.0</td>\n",
       "      <td>0.0</td>\n",
       "      <td>0.0</td>\n",
       "      <td>0.0</td>\n",
       "      <td>0.0</td>\n",
       "      <td>0.0</td>\n",
       "      <td>5.0</td>\n",
       "      <td>0.0</td>\n",
       "      <td>0.0</td>\n",
       "      <td>...</td>\n",
       "      <td>0.0</td>\n",
       "      <td>0.0</td>\n",
       "      <td>0.0</td>\n",
       "      <td>30.0</td>\n",
       "      <td>43.0</td>\n",
       "      <td>0.0</td>\n",
       "      <td>0.0</td>\n",
       "      <td>0.0</td>\n",
       "      <td>0.0</td>\n",
       "      <td>0.0</td>\n",
       "    </tr>\n",
       "    <tr>\n",
       "      <th>3</th>\n",
       "      <td>0.0</td>\n",
       "      <td>0.0</td>\n",
       "      <td>0.0</td>\n",
       "      <td>1.0</td>\n",
       "      <td>2.0</td>\n",
       "      <td>0.0</td>\n",
       "      <td>0.0</td>\n",
       "      <td>0.0</td>\n",
       "      <td>0.0</td>\n",
       "      <td>0.0</td>\n",
       "      <td>...</td>\n",
       "      <td>3.0</td>\n",
       "      <td>0.0</td>\n",
       "      <td>0.0</td>\n",
       "      <td>0.0</td>\n",
       "      <td>0.0</td>\n",
       "      <td>1.0</td>\n",
       "      <td>0.0</td>\n",
       "      <td>0.0</td>\n",
       "      <td>0.0</td>\n",
       "      <td>0.0</td>\n",
       "    </tr>\n",
       "    <tr>\n",
       "      <th>4</th>\n",
       "      <td>0.0</td>\n",
       "      <td>0.0</td>\n",
       "      <td>0.0</td>\n",
       "      <td>0.0</td>\n",
       "      <td>0.0</td>\n",
       "      <td>0.0</td>\n",
       "      <td>0.0</td>\n",
       "      <td>0.0</td>\n",
       "      <td>0.0</td>\n",
       "      <td>0.0</td>\n",
       "      <td>...</td>\n",
       "      <td>0.0</td>\n",
       "      <td>0.0</td>\n",
       "      <td>0.0</td>\n",
       "      <td>0.0</td>\n",
       "      <td>0.0</td>\n",
       "      <td>0.0</td>\n",
       "      <td>0.0</td>\n",
       "      <td>0.0</td>\n",
       "      <td>0.0</td>\n",
       "      <td>0.0</td>\n",
       "    </tr>\n",
       "    <tr>\n",
       "      <th>...</th>\n",
       "      <td>...</td>\n",
       "      <td>...</td>\n",
       "      <td>...</td>\n",
       "      <td>...</td>\n",
       "      <td>...</td>\n",
       "      <td>...</td>\n",
       "      <td>...</td>\n",
       "      <td>...</td>\n",
       "      <td>...</td>\n",
       "      <td>...</td>\n",
       "      <td>...</td>\n",
       "      <td>...</td>\n",
       "      <td>...</td>\n",
       "      <td>...</td>\n",
       "      <td>...</td>\n",
       "      <td>...</td>\n",
       "      <td>...</td>\n",
       "      <td>...</td>\n",
       "      <td>...</td>\n",
       "      <td>...</td>\n",
       "      <td>...</td>\n",
       "    </tr>\n",
       "    <tr>\n",
       "      <th>59995</th>\n",
       "      <td>0.0</td>\n",
       "      <td>0.0</td>\n",
       "      <td>0.0</td>\n",
       "      <td>0.0</td>\n",
       "      <td>0.0</td>\n",
       "      <td>0.0</td>\n",
       "      <td>0.0</td>\n",
       "      <td>0.0</td>\n",
       "      <td>0.0</td>\n",
       "      <td>0.0</td>\n",
       "      <td>...</td>\n",
       "      <td>0.0</td>\n",
       "      <td>0.0</td>\n",
       "      <td>0.0</td>\n",
       "      <td>0.0</td>\n",
       "      <td>0.0</td>\n",
       "      <td>0.0</td>\n",
       "      <td>0.0</td>\n",
       "      <td>0.0</td>\n",
       "      <td>0.0</td>\n",
       "      <td>0.0</td>\n",
       "    </tr>\n",
       "    <tr>\n",
       "      <th>59996</th>\n",
       "      <td>0.0</td>\n",
       "      <td>0.0</td>\n",
       "      <td>0.0</td>\n",
       "      <td>0.0</td>\n",
       "      <td>0.0</td>\n",
       "      <td>0.0</td>\n",
       "      <td>0.0</td>\n",
       "      <td>0.0</td>\n",
       "      <td>0.0</td>\n",
       "      <td>0.0</td>\n",
       "      <td>...</td>\n",
       "      <td>73.0</td>\n",
       "      <td>0.0</td>\n",
       "      <td>0.0</td>\n",
       "      <td>0.0</td>\n",
       "      <td>0.0</td>\n",
       "      <td>0.0</td>\n",
       "      <td>0.0</td>\n",
       "      <td>0.0</td>\n",
       "      <td>0.0</td>\n",
       "      <td>0.0</td>\n",
       "    </tr>\n",
       "    <tr>\n",
       "      <th>59997</th>\n",
       "      <td>0.0</td>\n",
       "      <td>0.0</td>\n",
       "      <td>0.0</td>\n",
       "      <td>0.0</td>\n",
       "      <td>0.0</td>\n",
       "      <td>0.0</td>\n",
       "      <td>0.0</td>\n",
       "      <td>0.0</td>\n",
       "      <td>0.0</td>\n",
       "      <td>0.0</td>\n",
       "      <td>...</td>\n",
       "      <td>160.0</td>\n",
       "      <td>162.0</td>\n",
       "      <td>163.0</td>\n",
       "      <td>135.0</td>\n",
       "      <td>94.0</td>\n",
       "      <td>0.0</td>\n",
       "      <td>0.0</td>\n",
       "      <td>0.0</td>\n",
       "      <td>0.0</td>\n",
       "      <td>0.0</td>\n",
       "    </tr>\n",
       "    <tr>\n",
       "      <th>59998</th>\n",
       "      <td>0.0</td>\n",
       "      <td>0.0</td>\n",
       "      <td>0.0</td>\n",
       "      <td>0.0</td>\n",
       "      <td>0.0</td>\n",
       "      <td>0.0</td>\n",
       "      <td>0.0</td>\n",
       "      <td>0.0</td>\n",
       "      <td>0.0</td>\n",
       "      <td>0.0</td>\n",
       "      <td>...</td>\n",
       "      <td>0.0</td>\n",
       "      <td>0.0</td>\n",
       "      <td>0.0</td>\n",
       "      <td>0.0</td>\n",
       "      <td>0.0</td>\n",
       "      <td>0.0</td>\n",
       "      <td>0.0</td>\n",
       "      <td>0.0</td>\n",
       "      <td>0.0</td>\n",
       "      <td>0.0</td>\n",
       "    </tr>\n",
       "    <tr>\n",
       "      <th>59999</th>\n",
       "      <td>0.0</td>\n",
       "      <td>0.0</td>\n",
       "      <td>0.0</td>\n",
       "      <td>0.0</td>\n",
       "      <td>0.0</td>\n",
       "      <td>0.0</td>\n",
       "      <td>0.0</td>\n",
       "      <td>0.0</td>\n",
       "      <td>0.0</td>\n",
       "      <td>0.0</td>\n",
       "      <td>...</td>\n",
       "      <td>0.0</td>\n",
       "      <td>0.0</td>\n",
       "      <td>0.0</td>\n",
       "      <td>0.0</td>\n",
       "      <td>0.0</td>\n",
       "      <td>0.0</td>\n",
       "      <td>0.0</td>\n",
       "      <td>0.0</td>\n",
       "      <td>0.0</td>\n",
       "      <td>0.0</td>\n",
       "    </tr>\n",
       "  </tbody>\n",
       "</table>\n",
       "<p>60000 rows × 784 columns</p>\n",
       "</div>"
      ],
      "text/plain": [
       "       pixel1  pixel2  pixel3  pixel4  pixel5  pixel6  pixel7  pixel8  pixel9  \\\n",
       "0         0.0     0.0     0.0     0.0     0.0     0.0     0.0     0.0     0.0   \n",
       "1         0.0     0.0     0.0     0.0     0.0     0.0     0.0     0.0     0.0   \n",
       "2         0.0     0.0     0.0     0.0     0.0     0.0     0.0     5.0     0.0   \n",
       "3         0.0     0.0     0.0     1.0     2.0     0.0     0.0     0.0     0.0   \n",
       "4         0.0     0.0     0.0     0.0     0.0     0.0     0.0     0.0     0.0   \n",
       "...       ...     ...     ...     ...     ...     ...     ...     ...     ...   \n",
       "59995     0.0     0.0     0.0     0.0     0.0     0.0     0.0     0.0     0.0   \n",
       "59996     0.0     0.0     0.0     0.0     0.0     0.0     0.0     0.0     0.0   \n",
       "59997     0.0     0.0     0.0     0.0     0.0     0.0     0.0     0.0     0.0   \n",
       "59998     0.0     0.0     0.0     0.0     0.0     0.0     0.0     0.0     0.0   \n",
       "59999     0.0     0.0     0.0     0.0     0.0     0.0     0.0     0.0     0.0   \n",
       "\n",
       "       pixel10  ...  pixel775  pixel776  pixel777  pixel778  pixel779  \\\n",
       "0          0.0  ...       0.0       0.0       0.0       0.0       0.0   \n",
       "1          0.0  ...       0.0       0.0       0.0       0.0       0.0   \n",
       "2          0.0  ...       0.0       0.0       0.0      30.0      43.0   \n",
       "3          0.0  ...       3.0       0.0       0.0       0.0       0.0   \n",
       "4          0.0  ...       0.0       0.0       0.0       0.0       0.0   \n",
       "...        ...  ...       ...       ...       ...       ...       ...   \n",
       "59995      0.0  ...       0.0       0.0       0.0       0.0       0.0   \n",
       "59996      0.0  ...      73.0       0.0       0.0       0.0       0.0   \n",
       "59997      0.0  ...     160.0     162.0     163.0     135.0      94.0   \n",
       "59998      0.0  ...       0.0       0.0       0.0       0.0       0.0   \n",
       "59999      0.0  ...       0.0       0.0       0.0       0.0       0.0   \n",
       "\n",
       "       pixel780  pixel781  pixel782  pixel783  pixel784  \n",
       "0           0.0       0.0       0.0       0.0       0.0  \n",
       "1           0.0       0.0       0.0       0.0       0.0  \n",
       "2           0.0       0.0       0.0       0.0       0.0  \n",
       "3           1.0       0.0       0.0       0.0       0.0  \n",
       "4           0.0       0.0       0.0       0.0       0.0  \n",
       "...         ...       ...       ...       ...       ...  \n",
       "59995       0.0       0.0       0.0       0.0       0.0  \n",
       "59996       0.0       0.0       0.0       0.0       0.0  \n",
       "59997       0.0       0.0       0.0       0.0       0.0  \n",
       "59998       0.0       0.0       0.0       0.0       0.0  \n",
       "59999       0.0       0.0       0.0       0.0       0.0  \n",
       "\n",
       "[60000 rows x 784 columns]"
      ]
     },
     "execution_count": 15,
     "metadata": {},
     "output_type": "execute_result"
    }
   ],
   "source": [
    "# Full xTrain table\n",
    "xTrain"
   ]
  },
  {
   "cell_type": "code",
   "execution_count": 16,
   "id": "4a01233d-e8b8-4a4e-8861-90b6d472a9a9",
   "metadata": {},
   "outputs": [
    {
     "name": "stdout",
     "output_type": "stream",
     "text": [
      "37603\n"
     ]
    },
    {
     "data": {
      "text/html": [
       "<div>\n",
       "<style scoped>\n",
       "    .dataframe tbody tr th:only-of-type {\n",
       "        vertical-align: middle;\n",
       "    }\n",
       "\n",
       "    .dataframe tbody tr th {\n",
       "        vertical-align: top;\n",
       "    }\n",
       "\n",
       "    .dataframe thead th {\n",
       "        text-align: right;\n",
       "    }\n",
       "</style>\n",
       "<table border=\"1\" class=\"dataframe\">\n",
       "  <thead>\n",
       "    <tr style=\"text-align: right;\">\n",
       "      <th></th>\n",
       "      <th>pixel1</th>\n",
       "      <th>pixel2</th>\n",
       "      <th>pixel3</th>\n",
       "      <th>pixel4</th>\n",
       "      <th>pixel5</th>\n",
       "      <th>pixel6</th>\n",
       "      <th>pixel7</th>\n",
       "      <th>pixel8</th>\n",
       "      <th>pixel9</th>\n",
       "      <th>pixel10</th>\n",
       "      <th>...</th>\n",
       "      <th>pixel775</th>\n",
       "      <th>pixel776</th>\n",
       "      <th>pixel777</th>\n",
       "      <th>pixel778</th>\n",
       "      <th>pixel779</th>\n",
       "      <th>pixel780</th>\n",
       "      <th>pixel781</th>\n",
       "      <th>pixel782</th>\n",
       "      <th>pixel783</th>\n",
       "      <th>pixel784</th>\n",
       "    </tr>\n",
       "  </thead>\n",
       "  <tbody>\n",
       "    <tr>\n",
       "      <th>37603</th>\n",
       "      <td>0.0</td>\n",
       "      <td>0.0</td>\n",
       "      <td>0.0</td>\n",
       "      <td>0.0</td>\n",
       "      <td>0.0</td>\n",
       "      <td>0.0</td>\n",
       "      <td>0.0</td>\n",
       "      <td>0.0</td>\n",
       "      <td>0.0</td>\n",
       "      <td>0.0</td>\n",
       "      <td>...</td>\n",
       "      <td>0.0</td>\n",
       "      <td>0.0</td>\n",
       "      <td>0.0</td>\n",
       "      <td>0.0</td>\n",
       "      <td>0.0</td>\n",
       "      <td>0.0</td>\n",
       "      <td>0.0</td>\n",
       "      <td>0.0</td>\n",
       "      <td>0.0</td>\n",
       "      <td>0.0</td>\n",
       "    </tr>\n",
       "  </tbody>\n",
       "</table>\n",
       "<p>1 rows × 784 columns</p>\n",
       "</div>"
      ],
      "text/plain": [
       "       pixel1  pixel2  pixel3  pixel4  pixel5  pixel6  pixel7  pixel8  pixel9  \\\n",
       "37603     0.0     0.0     0.0     0.0     0.0     0.0     0.0     0.0     0.0   \n",
       "\n",
       "       pixel10  ...  pixel775  pixel776  pixel777  pixel778  pixel779  \\\n",
       "37603      0.0  ...       0.0       0.0       0.0       0.0       0.0   \n",
       "\n",
       "       pixel780  pixel781  pixel782  pixel783  pixel784  \n",
       "37603       0.0       0.0       0.0       0.0       0.0  \n",
       "\n",
       "[1 rows x 784 columns]"
      ]
     },
     "execution_count": 16,
     "metadata": {},
     "output_type": "execute_result"
    }
   ],
   "source": [
    "# xTrain table at a random index\n",
    "print(index)\n",
    "xTrain[index:index+1]"
   ]
  },
  {
   "cell_type": "code",
   "execution_count": 17,
   "id": "d8cb2c38-84af-4d75-91de-0062c36e031d",
   "metadata": {},
   "outputs": [
    {
     "data": {
      "text/plain": [
       "matrix([[  0.,   0.,   0.,   0.,   0.,   0.,   0.,   0.,   0.,   0.,\n",
       "           0.,   0.,   0.,   0.,   0.,   0.,   0.,   0.,   0.,   0.,\n",
       "           0.,   0.,   0.,   0.,   0.,   0.,   0.,   0.],\n",
       "        [  0.,   0.,   0.,   0.,   0.,   0.,   0.,   0.,   0.,   0.,\n",
       "           0.,   0.,   0.,   0.,   0.,   0.,   0.,   0.,   0.,   0.,\n",
       "           0.,   0.,   0.,   0.,   0.,   0.,   0.,   0.],\n",
       "        [  0.,   0.,   0.,   0.,   0.,   0.,   0.,   0.,   0.,   0.,\n",
       "           0.,   0.,   0.,   0.,   0.,   0.,   0.,   0.,   0.,   0.,\n",
       "           0.,   0.,   0.,   0.,   0.,   0.,   0.,   0.],\n",
       "        [  0.,   0.,   0.,   0.,   0.,   0.,   0.,   0.,   0.,   0.,\n",
       "           0.,   0.,   0.,   0.,   0.,   0.,   0.,   0.,   0.,   0.,\n",
       "           0.,   0.,   0.,   0.,   0.,   0.,   0.,   0.],\n",
       "        [  0.,   0.,   0.,   0.,   0.,   0.,   0.,   0.,   0.,   0.,\n",
       "           0.,   0.,   0.,   0.,   0.,   0.,   0.,   0.,   0.,   0.,\n",
       "           0.,   0.,   0.,   0.,   0.,   0.,   0.,   0.],\n",
       "        [  0.,   0.,   0.,   0.,   0.,   0.,   0.,   0.,   0.,   0.,\n",
       "           0.,   0.,   0.,   0.,   0.,   0.,   0.,   0.,   0.,   0.,\n",
       "           0.,   0.,   0.,   0.,   0.,   0.,   0.,   0.],\n",
       "        [  0.,   0.,   0.,   0.,   0.,   0.,   0.,   0.,   0.,   0.,\n",
       "           0.,   0.,   0.,   0.,   0.,   0.,   0.,   0.,   0.,   0.,\n",
       "           0.,   0.,   0.,   0.,   0.,   0.,   0.,   0.],\n",
       "        [  0.,   0.,   0.,   0.,   0.,   0.,   0.,   0.,   0.,   0.,\n",
       "           0.,   0.,   0.,   0.,   0.,   0.,   0.,   0.,   0.,   0.,\n",
       "           0.,   0.,   0.,   0.,   0.,   0.,   0.,   0.],\n",
       "        [  0.,   0.,   0.,   0.,   0.,   0.,   0.,   0.,   0.,   0.,\n",
       "           0.,   0.,   0.,   0.,   0.,   0.,   0.,   0.,   0.,   0.,\n",
       "           0.,   0.,   0.,   0.,   0.,   0.,   0.,   0.],\n",
       "        [  0.,   0.,   0.,   0.,   0.,   0.,   3.,   1.,   0.,   0.,\n",
       "           0.,   0.,   0.,   0.,   0.,   0.,   0.,   0.,   0.,   0.,\n",
       "           0.,   0.,   0.,   0.,  62.,   0.,   0.,   0.],\n",
       "        [  0.,   0.,   0.,   0.,   0.,   0.,   0.,   0.,   0.,  24.,\n",
       "           0.,   0.,   0.,   0.,   0.,   0.,   0.,   0.,   0.,   0.,\n",
       "           0.,   0.,   0., 124., 255.,  90.,   0.,   1.],\n",
       "        [  0.,   0.,   0.,   0.,   0.,   0.,   0.,  53., 115., 139.,\n",
       "          30.,   0.,   0.,   0.,   0.,   0.,   0.,   0.,   0.,   0.,\n",
       "           0.,   0., 138., 215., 158.,   0.,   0.,   0.],\n",
       "        [  0.,   0.,   0.,   0.,  24.,  73., 130., 127.,  90.,  56.,\n",
       "          64.,   0.,   0.,   0.,   1.,   3.,   1.,   0.,   6.,   0.,\n",
       "           0., 172., 216., 167.,   0.,   0.,   0.,   0.],\n",
       "        [  0.,  19.,  66., 109., 116., 113.,  84.,  59.,  56.,  58.,\n",
       "          92.,  27.,   0.,   0.,   1.,   1.,   0.,   1.,   0.,   1.,\n",
       "         195., 204., 196.,   0.,   0.,   0.,   1.,   0.],\n",
       "        [ 56., 144., 112.,  95.,  78.,  58.,  30.,  38.,  62.,  81.,\n",
       "         121.,  87.,   0.,   0.,   4.,   0.,   0.,   0.,   1., 199.,\n",
       "         202., 182.,   3.,   0.,   1.,   3.,   0.,   0.],\n",
       "        [ 21., 168., 145., 135., 135., 125., 135., 136., 124., 119.,\n",
       "         110., 141.,  30.,   0.,   0.,   0.,   0.,  41., 182., 199.,\n",
       "         170.,   4.,   0.,   0.,   0.,   0.,   0.,   0.],\n",
       "        [ 41., 125., 124., 116., 133., 129., 139., 133., 118., 110.,\n",
       "          93., 121.,  90.,  15.,  24.,  12.,  39., 238., 196., 190.,\n",
       "          66.,   0.,  38.,  32.,  32.,  32.,  36.,  32.],\n",
       "        [  7.,   7.,   6.,   7.,   6.,  10.,  10.,  13.,  13.,  16.,\n",
       "          21.,  26.,  26.,  36.,  36.,  36.,  26.,   0.,   0.,   0.,\n",
       "           4.,  38.,  33.,  38.,  36.,  35.,  39.,  36.],\n",
       "        [  0.,   0.,   0.,   0.,   0.,   0.,   0.,   0.,   0.,   0.,\n",
       "           0.,   0.,   0.,   0.,   0.,   0.,   1.,   0.,  10.,  19.,\n",
       "          21.,  18.,   7.,  10.,  12.,  13.,  12.,   0.],\n",
       "        [  0.,   0.,   0.,   0.,   0.,   0.,   0.,   0.,   0.,   0.,\n",
       "           0.,   0.,   0.,   0.,   0.,   0.,   0.,   0.,   0.,   0.,\n",
       "           0.,   0.,   0.,   0.,   0.,   0.,   0.,   0.],\n",
       "        [  0.,   0.,   0.,   0.,   0.,   0.,   0.,   0.,   0.,   0.,\n",
       "           0.,   0.,   0.,   0.,   0.,   0.,   0.,   0.,   0.,   0.,\n",
       "           0.,   0.,   0.,   0.,   0.,   0.,   0.,   0.],\n",
       "        [  0.,   0.,   0.,   0.,   0.,   0.,   0.,   0.,   0.,   0.,\n",
       "           0.,   0.,   0.,   0.,   0.,   0.,   0.,   0.,   0.,   0.,\n",
       "           0.,   0.,   0.,   0.,   0.,   0.,   0.,   0.],\n",
       "        [  0.,   0.,   0.,   0.,   0.,   0.,   0.,   0.,   0.,   0.,\n",
       "           0.,   0.,   0.,   0.,   0.,   0.,   0.,   0.,   0.,   0.,\n",
       "           0.,   0.,   0.,   0.,   0.,   0.,   0.,   0.],\n",
       "        [  0.,   0.,   0.,   0.,   0.,   0.,   0.,   0.,   0.,   0.,\n",
       "           0.,   0.,   0.,   0.,   0.,   0.,   0.,   0.,   0.,   0.,\n",
       "           0.,   0.,   0.,   0.,   0.,   0.,   0.,   0.],\n",
       "        [  0.,   0.,   0.,   0.,   0.,   0.,   0.,   0.,   0.,   0.,\n",
       "           0.,   0.,   0.,   0.,   0.,   0.,   0.,   0.,   0.,   0.,\n",
       "           0.,   0.,   0.,   0.,   0.,   0.,   0.,   0.],\n",
       "        [  0.,   0.,   0.,   0.,   0.,   0.,   0.,   0.,   0.,   0.,\n",
       "           0.,   0.,   0.,   0.,   0.,   0.,   0.,   0.,   0.,   0.,\n",
       "           0.,   0.,   0.,   0.,   0.,   0.,   0.,   0.],\n",
       "        [  0.,   0.,   0.,   0.,   0.,   0.,   0.,   0.,   0.,   0.,\n",
       "           0.,   0.,   0.,   0.,   0.,   0.,   0.,   0.,   0.,   0.,\n",
       "           0.,   0.,   0.,   0.,   0.,   0.,   0.,   0.],\n",
       "        [  0.,   0.,   0.,   0.,   0.,   0.,   0.,   0.,   0.,   0.,\n",
       "           0.,   0.,   0.,   0.,   0.,   0.,   0.,   0.,   0.,   0.,\n",
       "           0.,   0.,   0.,   0.,   0.,   0.,   0.,   0.]], dtype=float32)"
      ]
     },
     "execution_count": 17,
     "metadata": {},
     "output_type": "execute_result"
    }
   ],
   "source": [
    "# Corresponding matrix to xTrain index\n",
    "np.matrix(xTrain.values[index]).reshape(28, 28)"
   ]
  },
  {
   "cell_type": "markdown",
   "id": "cf38ee4b-b4e3-4eea-8c5e-79d407f4e36b",
   "metadata": {
    "tags": []
   },
   "source": [
    "## Understand the data\n",
    "Our train dataset consists of 60,000 images in the form of 28x28 pixels black & white (grayscale). Each pixel value ranges from 0 (black) to 255 (white). Since we have 785 columns in our data, where one column represents the label of the image, we conclude that there are 784 pixels (or 28x28) per image to be processed. There are 10 classes of label ranging from 0-9."
   ]
  },
  {
   "cell_type": "code",
   "execution_count": 18,
   "id": "e0061652-78d1-4614-aab1-c9f1be39dbf5",
   "metadata": {},
   "outputs": [
    {
     "data": {
      "text/plain": [
       "0.0"
      ]
     },
     "execution_count": 18,
     "metadata": {},
     "output_type": "execute_result"
    }
   ],
   "source": [
    "# Minimum pixel value\n",
    "np.min(xTrain.values[index])"
   ]
  },
  {
   "cell_type": "code",
   "execution_count": 19,
   "id": "09fcc478-eb30-4e9f-ab30-fc61bd6dcef4",
   "metadata": {},
   "outputs": [
    {
     "data": {
      "text/plain": [
       "255.0"
      ]
     },
     "execution_count": 19,
     "metadata": {},
     "output_type": "execute_result"
    }
   ],
   "source": [
    "# Maximum pixel value\n",
    "np.max(xTrain.values[index])"
   ]
  },
  {
   "cell_type": "code",
   "execution_count": 20,
   "id": "3730afbb-fd34-4f4e-a2b1-0c5214fec074",
   "metadata": {},
   "outputs": [
    {
     "data": {
      "text/plain": [
       "(60000, 784)"
      ]
     },
     "execution_count": 20,
     "metadata": {},
     "output_type": "execute_result"
    }
   ],
   "source": [
    "# Rows and Columns of train data without the labels\n",
    "xTrain.shape"
   ]
  },
  {
   "cell_type": "markdown",
   "id": "54dfc5c9-eae6-4625-8af3-7da7723bc453",
   "metadata": {},
   "source": [
    "#### Count of labels in dataset "
   ]
  },
  {
   "cell_type": "code",
   "execution_count": 21,
   "id": "f4208452-3f5e-4378-b354-85347836897d",
   "metadata": {},
   "outputs": [
    {
     "data": {
      "text/plain": [
       "array([0, 1, 2, 3, 4, 5, 6, 7, 8, 9])"
      ]
     },
     "execution_count": 21,
     "metadata": {},
     "output_type": "execute_result"
    }
   ],
   "source": [
    "labels = yTrain.unique()\n",
    "labels.sort()\n",
    "labels"
   ]
  },
  {
   "cell_type": "markdown",
   "id": "cfee7708-73c4-49ed-8e00-bdf316be5f7c",
   "metadata": {},
   "source": [
    "# Build a Logistic Regression model\n",
    "Logistic Regression is a simple and popular machine learning technique for predicting the probability of a target variable. Logistic Regression is used to predict the likelihood of a categorical dependent variable.\n",
    "\n",
    "In multiclass classification problem, we can train a single independent logistic regression unit for each class as positive and other units (for the rest of the classes) as negative--this is referred as One-vs-All logistic regression method."
   ]
  },
  {
   "cell_type": "markdown",
   "id": "58de7a76-1bf5-4f13-8f50-f5ade9b11db6",
   "metadata": {},
   "source": [
    "### Split Train and Validation data\n",
    "We will split off a chunk of our train dataset for our validation dataset. "
   ]
  },
  {
   "cell_type": "code",
   "execution_count": 22,
   "id": "42c20dd6-61ef-4e1b-bbf4-f41fd1b7b561",
   "metadata": {},
   "outputs": [],
   "source": [
    "X_train, X_validation, y_train, y_validation = train_test_split(xTrain, yTrain, test_size=0.33, random_state=100)"
   ]
  },
  {
   "cell_type": "markdown",
   "id": "1ee12607-7fb5-4ce1-983e-9f2957cf4f5a",
   "metadata": {},
   "source": [
    "### Select a Linear Regression Classifier"
   ]
  },
  {
   "cell_type": "code",
   "execution_count": 56,
   "id": "8b8e00de-2bd2-4051-ac7f-743e47543217",
   "metadata": {},
   "outputs": [],
   "source": [
    "clf = LogisticRegression(solver = 'lbfgs', max_iter = 100)"
   ]
  },
  {
   "cell_type": "markdown",
   "id": "7dd4d434-d640-494c-8d64-00fcc526dbce",
   "metadata": {},
   "source": [
    "### Train the model "
   ]
  },
  {
   "cell_type": "code",
   "execution_count": 57,
   "id": "3c0f43c3-ca20-4002-ac45-521122084574",
   "metadata": {},
   "outputs": [
    {
     "name": "stderr",
     "output_type": "stream",
     "text": [
      "C:\\Users\\Viriya Duch Sam\\anaconda3\\lib\\site-packages\\sklearn\\linear_model\\_logistic.py:814: ConvergenceWarning: lbfgs failed to converge (status=1):\n",
      "STOP: TOTAL NO. of ITERATIONS REACHED LIMIT.\n",
      "\n",
      "Increase the number of iterations (max_iter) or scale the data as shown in:\n",
      "    https://scikit-learn.org/stable/modules/preprocessing.html\n",
      "Please also refer to the documentation for alternative solver options:\n",
      "    https://scikit-learn.org/stable/modules/linear_model.html#logistic-regression\n",
      "  n_iter_i = _check_optimize_result(\n"
     ]
    },
    {
     "data": {
      "text/plain": [
       "LogisticRegression()"
      ]
     },
     "execution_count": 57,
     "metadata": {},
     "output_type": "execute_result"
    }
   ],
   "source": [
    "clf.fit(X_train, y_train)"
   ]
  },
  {
   "cell_type": "markdown",
   "id": "6e56e560-03d7-431a-9edd-045e0d5d6cb2",
   "metadata": {},
   "source": [
    "### Predict some data from validation set"
   ]
  },
  {
   "cell_type": "code",
   "execution_count": 58,
   "id": "189ee02c-b37b-48c0-a10a-a5fb87fc4132",
   "metadata": {
    "tags": []
   },
   "outputs": [
    {
     "data": {
      "text/plain": [
       "34046    False\n",
       "2951      True\n",
       "5692      True\n",
       "4582      True\n",
       "4401      True\n",
       "         ...  \n",
       "50354     True\n",
       "8221      True\n",
       "46364     True\n",
       "19601    False\n",
       "59515     True\n",
       "Name: label, Length: 19800, dtype: bool"
      ]
     },
     "execution_count": 58,
     "metadata": {},
     "output_type": "execute_result"
    }
   ],
   "source": [
    "y_pred = clf.predict(X_validation)\n",
    "y_pred == y_validation"
   ]
  },
  {
   "cell_type": "code",
   "execution_count": 59,
   "id": "513cdb40-971e-484f-aa67-9594a71cb968",
   "metadata": {},
   "outputs": [
    {
     "data": {
      "text/plain": [
       "0.85"
      ]
     },
     "execution_count": 59,
     "metadata": {},
     "output_type": "execute_result"
    }
   ],
   "source": [
    "# Score on validation set\n",
    "clf.score(X_validation, y_validation)"
   ]
  },
  {
   "cell_type": "markdown",
   "id": "ce58e133-d6b0-48ac-81c5-66da9f1a24ae",
   "metadata": {
    "tags": []
   },
   "source": [
    "### Split test dataset"
   ]
  },
  {
   "cell_type": "code",
   "execution_count": 60,
   "id": "86750044-95e4-43e8-a532-882a51b16a3b",
   "metadata": {},
   "outputs": [],
   "source": [
    "X_test = test.drop(columns=[\"label\"])\n",
    "y_test = test[\"label\"]"
   ]
  },
  {
   "cell_type": "code",
   "execution_count": 76,
   "id": "d63f7843-24c4-434c-9b46-217666d4885b",
   "metadata": {},
   "outputs": [
    {
     "data": {
      "text/plain": [
       "0        True\n",
       "1        True\n",
       "2        True\n",
       "3       False\n",
       "4       False\n",
       "        ...  \n",
       "9995     True\n",
       "9996     True\n",
       "9997     True\n",
       "9998     True\n",
       "9999    False\n",
       "Name: label, Length: 10000, dtype: bool"
      ]
     },
     "execution_count": 76,
     "metadata": {},
     "output_type": "execute_result"
    }
   ],
   "source": [
    "# Predict some test set data\n",
    "y_pred = clf.predict(X_test)\n",
    "y_pred == y_test"
   ]
  },
  {
   "cell_type": "code",
   "execution_count": 75,
   "id": "8cc25629-0ef8-40d0-ab16-7f65139e32ba",
   "metadata": {},
   "outputs": [
    {
     "data": {
      "text/plain": [
       "0.8507"
      ]
     },
     "execution_count": 75,
     "metadata": {},
     "output_type": "execute_result"
    }
   ],
   "source": [
    "# Score on test set\n",
    "clf.score(X_test, y_test)"
   ]
  },
  {
   "cell_type": "markdown",
   "id": "8edba9b7-9355-4198-b56a-4d91520759a7",
   "metadata": {},
   "source": [
    "# Evaluation"
   ]
  },
  {
   "cell_type": "markdown",
   "id": "79506e15-eb39-4162-9987-0249fc66a4f4",
   "metadata": {},
   "source": [
    "### Classification Report"
   ]
  },
  {
   "cell_type": "code",
   "execution_count": 69,
   "id": "ab0df18c-9edf-451a-ac53-3ad141078a95",
   "metadata": {},
   "outputs": [
    {
     "name": "stdout",
     "output_type": "stream",
     "text": [
      "              precision    recall  f1-score   support\n",
      "\n",
      "           0       0.80      0.80      0.80      1000\n",
      "           1       0.95      0.98      0.96      1000\n",
      "           2       0.77      0.75      0.76      1000\n",
      "           3       0.87      0.87      0.87      1000\n",
      "           4       0.75      0.81      0.78      1000\n",
      "           5       0.94      0.89      0.91      1000\n",
      "           6       0.66      0.60      0.63      1000\n",
      "           7       0.90      0.93      0.91      1000\n",
      "           8       0.93      0.95      0.94      1000\n",
      "           9       0.92      0.95      0.93      1000\n",
      "\n",
      "    accuracy                           0.85     10000\n",
      "   macro avg       0.85      0.85      0.85     10000\n",
      "weighted avg       0.85      0.85      0.85     10000\n",
      "\n"
     ]
    }
   ],
   "source": [
    "print(classification_report(y_test, y_pred))"
   ]
  },
  {
   "cell_type": "markdown",
   "id": "462513f5-eacc-4cf8-8764-faaccd215448",
   "metadata": {},
   "source": [
    "### Confusion Matrix"
   ]
  },
  {
   "cell_type": "code",
   "execution_count": 74,
   "id": "660beadc-5b02-4e92-8b6d-93c7c035fcc2",
   "metadata": {},
   "outputs": [
    {
     "name": "stdout",
     "output_type": "stream",
     "text": [
      "[[804   9  14  39   7   0 105   0  21   1]\n",
      " [  2 976   3  13   0   2   4   0   0   0]\n",
      " [ 20   3 752  13 120   0  80   0  12   0]\n",
      " [ 31  26  17 867  34   0  22   0   3   0]\n",
      " [  0   0  80  29 805   1  82   0   3   0]\n",
      " [  2   1   0   0   0 887   1  65   8  36]\n",
      " [141   8 106  31 102   0 597   0  15   0]\n",
      " [  0   0   0   0   0  28   0 927   1  44]\n",
      " [  6   1   7   2   6  13  13   4 946   2]\n",
      " [  0   0   0   0   0  15   0  36   3 946]]\n"
     ]
    }
   ],
   "source": [
    "print(confusion_matrix(y_test, y_pred))"
   ]
  },
  {
   "cell_type": "markdown",
   "id": "74cbc79c-26f8-4a07-be10-39478e190fb3",
   "metadata": {},
   "source": [
    "### Visualise Misclassified Images"
   ]
  },
  {
   "cell_type": "code",
   "execution_count": 89,
   "id": "d83a2353-689d-4b1c-aad9-765317856918",
   "metadata": {},
   "outputs": [],
   "source": [
    "predictedCorrect = y_pred == y_test\n",
    "predictedWrong = ~predictedCorrect"
   ]
  },
  {
   "cell_type": "code",
   "execution_count": 138,
   "id": "2f4a78c1-bc00-44f9-afd2-af7705cd90af",
   "metadata": {},
   "outputs": [
    {
     "data": {
      "text/html": [
       "<div>\n",
       "<style scoped>\n",
       "    .dataframe tbody tr th:only-of-type {\n",
       "        vertical-align: middle;\n",
       "    }\n",
       "\n",
       "    .dataframe tbody tr th {\n",
       "        vertical-align: top;\n",
       "    }\n",
       "\n",
       "    .dataframe thead th {\n",
       "        text-align: right;\n",
       "    }\n",
       "</style>\n",
       "<table border=\"1\" class=\"dataframe\">\n",
       "  <thead>\n",
       "    <tr style=\"text-align: right;\">\n",
       "      <th></th>\n",
       "      <th>label</th>\n",
       "      <th>pixel1</th>\n",
       "      <th>pixel2</th>\n",
       "      <th>pixel3</th>\n",
       "      <th>pixel4</th>\n",
       "      <th>pixel5</th>\n",
       "      <th>pixel6</th>\n",
       "      <th>pixel7</th>\n",
       "      <th>pixel8</th>\n",
       "      <th>pixel9</th>\n",
       "      <th>...</th>\n",
       "      <th>pixel777</th>\n",
       "      <th>pixel778</th>\n",
       "      <th>pixel779</th>\n",
       "      <th>pixel780</th>\n",
       "      <th>pixel781</th>\n",
       "      <th>pixel782</th>\n",
       "      <th>pixel783</th>\n",
       "      <th>pixel784</th>\n",
       "      <th>Correct Prediction</th>\n",
       "      <th>Prediction</th>\n",
       "    </tr>\n",
       "  </thead>\n",
       "  <tbody>\n",
       "    <tr>\n",
       "      <th>0</th>\n",
       "      <td>0</td>\n",
       "      <td>0</td>\n",
       "      <td>0</td>\n",
       "      <td>0</td>\n",
       "      <td>0</td>\n",
       "      <td>0</td>\n",
       "      <td>0</td>\n",
       "      <td>0</td>\n",
       "      <td>9</td>\n",
       "      <td>8</td>\n",
       "      <td>...</td>\n",
       "      <td>56</td>\n",
       "      <td>0</td>\n",
       "      <td>0</td>\n",
       "      <td>0</td>\n",
       "      <td>0</td>\n",
       "      <td>0</td>\n",
       "      <td>0</td>\n",
       "      <td>0</td>\n",
       "      <td>True</td>\n",
       "      <td>0</td>\n",
       "    </tr>\n",
       "    <tr>\n",
       "      <th>1</th>\n",
       "      <td>1</td>\n",
       "      <td>0</td>\n",
       "      <td>0</td>\n",
       "      <td>0</td>\n",
       "      <td>0</td>\n",
       "      <td>0</td>\n",
       "      <td>0</td>\n",
       "      <td>0</td>\n",
       "      <td>0</td>\n",
       "      <td>0</td>\n",
       "      <td>...</td>\n",
       "      <td>0</td>\n",
       "      <td>0</td>\n",
       "      <td>0</td>\n",
       "      <td>0</td>\n",
       "      <td>0</td>\n",
       "      <td>0</td>\n",
       "      <td>0</td>\n",
       "      <td>0</td>\n",
       "      <td>True</td>\n",
       "      <td>1</td>\n",
       "    </tr>\n",
       "    <tr>\n",
       "      <th>2</th>\n",
       "      <td>2</td>\n",
       "      <td>0</td>\n",
       "      <td>0</td>\n",
       "      <td>0</td>\n",
       "      <td>0</td>\n",
       "      <td>0</td>\n",
       "      <td>0</td>\n",
       "      <td>14</td>\n",
       "      <td>53</td>\n",
       "      <td>99</td>\n",
       "      <td>...</td>\n",
       "      <td>0</td>\n",
       "      <td>0</td>\n",
       "      <td>63</td>\n",
       "      <td>53</td>\n",
       "      <td>31</td>\n",
       "      <td>0</td>\n",
       "      <td>0</td>\n",
       "      <td>0</td>\n",
       "      <td>True</td>\n",
       "      <td>2</td>\n",
       "    </tr>\n",
       "    <tr>\n",
       "      <th>3</th>\n",
       "      <td>2</td>\n",
       "      <td>0</td>\n",
       "      <td>0</td>\n",
       "      <td>0</td>\n",
       "      <td>0</td>\n",
       "      <td>0</td>\n",
       "      <td>0</td>\n",
       "      <td>0</td>\n",
       "      <td>0</td>\n",
       "      <td>0</td>\n",
       "      <td>...</td>\n",
       "      <td>140</td>\n",
       "      <td>0</td>\n",
       "      <td>133</td>\n",
       "      <td>224</td>\n",
       "      <td>222</td>\n",
       "      <td>56</td>\n",
       "      <td>0</td>\n",
       "      <td>0</td>\n",
       "      <td>False</td>\n",
       "      <td>0</td>\n",
       "    </tr>\n",
       "    <tr>\n",
       "      <th>4</th>\n",
       "      <td>3</td>\n",
       "      <td>0</td>\n",
       "      <td>0</td>\n",
       "      <td>0</td>\n",
       "      <td>0</td>\n",
       "      <td>0</td>\n",
       "      <td>0</td>\n",
       "      <td>0</td>\n",
       "      <td>0</td>\n",
       "      <td>0</td>\n",
       "      <td>...</td>\n",
       "      <td>0</td>\n",
       "      <td>0</td>\n",
       "      <td>0</td>\n",
       "      <td>0</td>\n",
       "      <td>0</td>\n",
       "      <td>0</td>\n",
       "      <td>0</td>\n",
       "      <td>0</td>\n",
       "      <td>False</td>\n",
       "      <td>4</td>\n",
       "    </tr>\n",
       "  </tbody>\n",
       "</table>\n",
       "<p>5 rows × 787 columns</p>\n",
       "</div>"
      ],
      "text/plain": [
       "   label  pixel1  pixel2  pixel3  pixel4  pixel5  pixel6  pixel7  pixel8  \\\n",
       "0      0       0       0       0       0       0       0       0       9   \n",
       "1      1       0       0       0       0       0       0       0       0   \n",
       "2      2       0       0       0       0       0       0      14      53   \n",
       "3      2       0       0       0       0       0       0       0       0   \n",
       "4      3       0       0       0       0       0       0       0       0   \n",
       "\n",
       "   pixel9  ...  pixel777  pixel778  pixel779  pixel780  pixel781  pixel782  \\\n",
       "0       8  ...        56         0         0         0         0         0   \n",
       "1       0  ...         0         0         0         0         0         0   \n",
       "2      99  ...         0         0        63        53        31         0   \n",
       "3       0  ...       140         0       133       224       222        56   \n",
       "4       0  ...         0         0         0         0         0         0   \n",
       "\n",
       "   pixel783  pixel784  Correct Prediction  Prediction  \n",
       "0         0         0                True           0  \n",
       "1         0         0                True           1  \n",
       "2         0         0                True           2  \n",
       "3         0         0               False           0  \n",
       "4         0         0               False           4  \n",
       "\n",
       "[5 rows x 787 columns]"
      ]
     },
     "execution_count": 138,
     "metadata": {},
     "output_type": "execute_result"
    }
   ],
   "source": [
    "# We append 2 new columns to a copy of our test data set\n",
    "testPred_df = test.copy()\n",
    "testPred_df[\"Correct Prediction\"] = predictedCorrect\n",
    "testPred_df[\"Prediction\"] = y_pred\n",
    "testPred_df.head()"
   ]
  },
  {
   "cell_type": "markdown",
   "id": "f7211bc5-510d-466e-927c-61e59fa1a7ce",
   "metadata": {},
   "source": [
    "#### Define lists of indexes"
   ]
  },
  {
   "cell_type": "code",
   "execution_count": 135,
   "id": "2dc1a998-ef88-4e22-b27c-443142ea8a61",
   "metadata": {},
   "outputs": [],
   "source": [
    "i = 0\n",
    "incorrectPredIndexes = []\n",
    "correctPredIndexes = []\n",
    "for label, predict in zip(y_test, y_pred):\n",
    "    if label != predict: \n",
    "        incorrectPredIndexes.append(i)\n",
    "    else:\n",
    "        correctPredIndexes.append(i)\n",
    "    i += 1"
   ]
  },
  {
   "cell_type": "code",
   "execution_count": 119,
   "id": "1736c425-bfeb-4ca9-bd8e-aaccc3ba338c",
   "metadata": {},
   "outputs": [
    {
     "data": {
      "text/plain": [
       "[3, 4, 5, 12, 16]"
      ]
     },
     "execution_count": 119,
     "metadata": {},
     "output_type": "execute_result"
    }
   ],
   "source": [
    "# First 5 indexes of misclassified predictions\n",
    "misclassifiedIndexes[:5]"
   ]
  },
  {
   "cell_type": "code",
   "execution_count": 105,
   "id": "1548ea37-b74c-4745-a425-8e7070a41eab",
   "metadata": {},
   "outputs": [
    {
     "name": "stdout",
     "output_type": "stream",
     "text": [
      "0\n",
      "2\n"
     ]
    }
   ],
   "source": [
    "# For example, at index = 3, the predicted was 0\n",
    "print(y_pred[3])\n",
    "\n",
    "# while the true label was 2\n",
    "print(y_test[3])"
   ]
  },
  {
   "cell_type": "markdown",
   "id": "93b65469-7ae6-423d-b405-d2ea13a78ccd",
   "metadata": {},
   "source": [
    "#### Plot misclassified images"
   ]
  },
  {
   "cell_type": "code",
   "execution_count": 118,
   "id": "d0a286bb-9e26-4988-8523-9f95b6bac8b4",
   "metadata": {},
   "outputs": [
    {
     "data": {
      "image/png": "[encoded data removed]",
      "text/plain": [
       "<Figure size 1800x360 with 5 Axes>"
      ]
     },
     "metadata": {
      "needs_background": "light"
     },
     "output_type": "display_data"
    }
   ],
   "source": [
    "plt.figure(figsize=(25,5))\n",
    "for plotIndex, misclassifiedIndex in enumerate(incorrectPredIndexes[0:5]):\n",
    "    plt.subplot(1, 5, plotIndex + 1)\n",
    "    plt.axis(\"off\")\n",
    "    plt.imshow(np.array(X_test.iloc[misclassifiedIndex, :]).reshape(28, 28), interpolation='nearest')\n",
    "    plt.title('Index: {}\\n Predicted: {}, Actual: {}'.format(misclassifiedIndex, y_pred[misclassifiedIndex], np.array(y_test)[misclassifiedIndex]))"
   ]
  },
  {
   "cell_type": "markdown",
   "id": "22569853-88ab-442c-a6fb-3f2e4600ef40",
   "metadata": {},
   "source": [
    "### Visualise Corrected Images"
   ]
  },
  {
   "cell_type": "code",
   "execution_count": 139,
   "id": "6130df14-7db5-4072-8d58-c40979c13c4d",
   "metadata": {},
   "outputs": [
    {
     "data": {
      "text/plain": [
       "[0, 1, 2, 6, 7]"
      ]
     },
     "execution_count": 139,
     "metadata": {},
     "output_type": "execute_result"
    }
   ],
   "source": [
    "correctPredIndexes[:5]"
   ]
  },
  {
   "cell_type": "code",
   "execution_count": 140,
   "id": "e08b7a09-53df-4e43-84c3-864716720bfd",
   "metadata": {},
   "outputs": [
    {
     "name": "stdout",
     "output_type": "stream",
     "text": [
      "6\n",
      "6\n"
     ]
    }
   ],
   "source": [
    "# We can check for index = 7, the predicted label is 6\n",
    "print(y_pred[7])\n",
    "\n",
    "# the true label is also 6\n",
    "print(y_test[7])"
   ]
  },
  {
   "cell_type": "markdown",
   "id": "2ce00961-e36f-4149-9b83-ee2034591fbd",
   "metadata": {},
   "source": [
    "#### Plot Correction Predictions"
   ]
  },
  {
   "cell_type": "code",
   "execution_count": 134,
   "id": "c1678c9a-3c40-4f52-b8f5-144a37169365",
   "metadata": {},
   "outputs": [
    {
     "data": {
      "image/png": "[encoded data removed]",
      "text/plain": [
       "<Figure size 1800x360 with 5 Axes>"
      ]
     },
     "metadata": {
      "needs_background": "light"
     },
     "output_type": "display_data"
    }
   ],
   "source": [
    "plt.figure(figsize=(25,5))\n",
    "for plotIndex, correctIndexes in enumerate(correctPredIndexes[0:5]):\n",
    "    plt.subplot(1, 5, plotIndex + 1)\n",
    "    plt.axis(\"off\")\n",
    "    plt.imshow(np.array(X_test.iloc[correctIndexes, :]).reshape(28, 28), interpolation='nearest')\n",
    "    plt.title('Index: {}\\n Predicted: {}, Actual: {}'.format(correctIndexes, y_pred[correctIndexes], np.array(y_test)[correctIndexes]))\n",
    "plt.show()"
   ]
  }
 ],
 "metadata": {
  "kernelspec": {
   "display_name": "Python 3 (ipykernel)",
   "language": "python",
   "name": "python3"
  },
  "language_info": {
   "codemirror_mode": {
    "name": "ipython",
    "version": 3
   },
   "file_extension": ".py",
   "mimetype": "text/x-python",
   "name": "python",
   "nbconvert_exporter": "python",
   "pygments_lexer": "ipython3",
   "version": "3.9.12"
  }
 },
 "nbformat": 4,
 "nbformat_minor": 5
}
