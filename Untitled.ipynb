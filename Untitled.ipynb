{
 "cells": [
  {
   "cell_type": "code",
   "execution_count": null,
   "id": "40326a45-f01b-4d61-8c66-87846c1afbb7",
   "metadata": {},
   "outputs": [],
   "source": [
    "#This report aims to predict different type of clothes from images and how to apply logistic regression from FashionMnist dataset. \n",
    "#This dataset consists of 60,000 examples, each examples is a 28x28 grayscale image with 10 classes and it contains 785 columns.\n",
    "#The dataset set can be found on Kaggle https://www.kaggle.com/datasets/zalando-research/fashionmnist.\n",
    "#Each training and test example is assigned to one of the following labels:\n",
    "#    • 0 T-shirt/top \n",
    "#    • 1 Trouser \n",
    "#    • 2 Pullover \n",
    "#    • 3 Dress \n",
    "#    • 4 Coat \n",
    "#    • 5 Sandal \n",
    "#    • 6 Shirt \n",
    "#    • 7 Sneaker \n",
    "#    • 8 Bag \n",
    "#    • 9 Ankle boot"
   ]
  },
  {
   "cell_type": "code",
   "execution_count": 1,
   "id": "725ffb1a-4911-460e-af73-89c831a48e89",
   "metadata": {},
   "outputs": [],
   "source": [
    "#Load packages\n",
    "\"\"\"\n",
    "Created on Sat Aug 23 21:09:04 2022\n",
    "\n",
    "@author: caity\n",
    "\"\"\"\n",
    "import numpy as np # linear algebra\n",
    "import pandas as pd # data processing, CSV file I/O (e.g. pd.read_csv)\n",
    "import tensorflow as tf\n",
    "import matplotlib.pyplot as plt\n",
    "from sklearn.linear_model import LogisticRegression\n",
    "from sklearn.model_selection import train_test_split\n"
   ]
  },
  {
   "cell_type": "code",
   "execution_count": 2,
   "id": "3e3d392b-1a5a-4f2e-9e63-5a75b64e63be",
   "metadata": {},
   "outputs": [],
   "source": [
    "#Retrieving Data\n",
    "##Read csv files\n",
    "train = pd.read_csv('/home/caity/A1B/fashion-mnist_train.csv')\n",
    "test = pd.read_csv('/home/caity/A1B/fashion-mnist_test.csv')"
   ]
  },
  {
   "cell_type": "code",
   "execution_count": 3,
   "id": "cff6ef1b-13bb-4d20-a796-bb243ac31346",
   "metadata": {},
   "outputs": [
    {
     "name": "stdout",
     "output_type": "stream",
     "text": [
      "<class 'pandas.core.frame.DataFrame'>\n",
      "RangeIndex: 60000 entries, 0 to 59999\n",
      "Columns: 785 entries, label to pixel784\n",
      "dtypes: int64(785)\n",
      "memory usage: 359.3 MB\n"
     ]
    },
    {
     "data": {
      "text/html": [
       "<div>\n",
       "<style scoped>\n",
       "    .dataframe tbody tr th:only-of-type {\n",
       "        vertical-align: middle;\n",
       "    }\n",
       "\n",
       "    .dataframe tbody tr th {\n",
       "        vertical-align: top;\n",
       "    }\n",
       "\n",
       "    .dataframe thead th {\n",
       "        text-align: right;\n",
       "    }\n",
       "</style>\n",
       "<table border=\"1\" class=\"dataframe\">\n",
       "  <thead>\n",
       "    <tr style=\"text-align: right;\">\n",
       "      <th></th>\n",
       "      <th>label</th>\n",
       "      <th>pixel1</th>\n",
       "      <th>pixel2</th>\n",
       "      <th>pixel3</th>\n",
       "      <th>pixel4</th>\n",
       "      <th>pixel5</th>\n",
       "      <th>pixel6</th>\n",
       "      <th>pixel7</th>\n",
       "      <th>pixel8</th>\n",
       "      <th>pixel9</th>\n",
       "      <th>...</th>\n",
       "      <th>pixel775</th>\n",
       "      <th>pixel776</th>\n",
       "      <th>pixel777</th>\n",
       "      <th>pixel778</th>\n",
       "      <th>pixel779</th>\n",
       "      <th>pixel780</th>\n",
       "      <th>pixel781</th>\n",
       "      <th>pixel782</th>\n",
       "      <th>pixel783</th>\n",
       "      <th>pixel784</th>\n",
       "    </tr>\n",
       "  </thead>\n",
       "  <tbody>\n",
       "    <tr>\n",
       "      <th>0</th>\n",
       "      <td>2</td>\n",
       "      <td>0</td>\n",
       "      <td>0</td>\n",
       "      <td>0</td>\n",
       "      <td>0</td>\n",
       "      <td>0</td>\n",
       "      <td>0</td>\n",
       "      <td>0</td>\n",
       "      <td>0</td>\n",
       "      <td>0</td>\n",
       "      <td>...</td>\n",
       "      <td>0</td>\n",
       "      <td>0</td>\n",
       "      <td>0</td>\n",
       "      <td>0</td>\n",
       "      <td>0</td>\n",
       "      <td>0</td>\n",
       "      <td>0</td>\n",
       "      <td>0</td>\n",
       "      <td>0</td>\n",
       "      <td>0</td>\n",
       "    </tr>\n",
       "    <tr>\n",
       "      <th>1</th>\n",
       "      <td>9</td>\n",
       "      <td>0</td>\n",
       "      <td>0</td>\n",
       "      <td>0</td>\n",
       "      <td>0</td>\n",
       "      <td>0</td>\n",
       "      <td>0</td>\n",
       "      <td>0</td>\n",
       "      <td>0</td>\n",
       "      <td>0</td>\n",
       "      <td>...</td>\n",
       "      <td>0</td>\n",
       "      <td>0</td>\n",
       "      <td>0</td>\n",
       "      <td>0</td>\n",
       "      <td>0</td>\n",
       "      <td>0</td>\n",
       "      <td>0</td>\n",
       "      <td>0</td>\n",
       "      <td>0</td>\n",
       "      <td>0</td>\n",
       "    </tr>\n",
       "    <tr>\n",
       "      <th>2</th>\n",
       "      <td>6</td>\n",
       "      <td>0</td>\n",
       "      <td>0</td>\n",
       "      <td>0</td>\n",
       "      <td>0</td>\n",
       "      <td>0</td>\n",
       "      <td>0</td>\n",
       "      <td>0</td>\n",
       "      <td>5</td>\n",
       "      <td>0</td>\n",
       "      <td>...</td>\n",
       "      <td>0</td>\n",
       "      <td>0</td>\n",
       "      <td>0</td>\n",
       "      <td>30</td>\n",
       "      <td>43</td>\n",
       "      <td>0</td>\n",
       "      <td>0</td>\n",
       "      <td>0</td>\n",
       "      <td>0</td>\n",
       "      <td>0</td>\n",
       "    </tr>\n",
       "    <tr>\n",
       "      <th>3</th>\n",
       "      <td>0</td>\n",
       "      <td>0</td>\n",
       "      <td>0</td>\n",
       "      <td>0</td>\n",
       "      <td>1</td>\n",
       "      <td>2</td>\n",
       "      <td>0</td>\n",
       "      <td>0</td>\n",
       "      <td>0</td>\n",
       "      <td>0</td>\n",
       "      <td>...</td>\n",
       "      <td>3</td>\n",
       "      <td>0</td>\n",
       "      <td>0</td>\n",
       "      <td>0</td>\n",
       "      <td>0</td>\n",
       "      <td>1</td>\n",
       "      <td>0</td>\n",
       "      <td>0</td>\n",
       "      <td>0</td>\n",
       "      <td>0</td>\n",
       "    </tr>\n",
       "    <tr>\n",
       "      <th>4</th>\n",
       "      <td>3</td>\n",
       "      <td>0</td>\n",
       "      <td>0</td>\n",
       "      <td>0</td>\n",
       "      <td>0</td>\n",
       "      <td>0</td>\n",
       "      <td>0</td>\n",
       "      <td>0</td>\n",
       "      <td>0</td>\n",
       "      <td>0</td>\n",
       "      <td>...</td>\n",
       "      <td>0</td>\n",
       "      <td>0</td>\n",
       "      <td>0</td>\n",
       "      <td>0</td>\n",
       "      <td>0</td>\n",
       "      <td>0</td>\n",
       "      <td>0</td>\n",
       "      <td>0</td>\n",
       "      <td>0</td>\n",
       "      <td>0</td>\n",
       "    </tr>\n",
       "  </tbody>\n",
       "</table>\n",
       "<p>5 rows × 785 columns</p>\n",
       "</div>"
      ],
      "text/plain": [
       "   label  pixel1  pixel2  pixel3  pixel4  pixel5  pixel6  pixel7  pixel8  \\\n",
       "0      2       0       0       0       0       0       0       0       0   \n",
       "1      9       0       0       0       0       0       0       0       0   \n",
       "2      6       0       0       0       0       0       0       0       5   \n",
       "3      0       0       0       0       1       2       0       0       0   \n",
       "4      3       0       0       0       0       0       0       0       0   \n",
       "\n",
       "   pixel9  ...  pixel775  pixel776  pixel777  pixel778  pixel779  pixel780  \\\n",
       "0       0  ...         0         0         0         0         0         0   \n",
       "1       0  ...         0         0         0         0         0         0   \n",
       "2       0  ...         0         0         0        30        43         0   \n",
       "3       0  ...         3         0         0         0         0         1   \n",
       "4       0  ...         0         0         0         0         0         0   \n",
       "\n",
       "   pixel781  pixel782  pixel783  pixel784  \n",
       "0         0         0         0         0  \n",
       "1         0         0         0         0  \n",
       "2         0         0         0         0  \n",
       "3         0         0         0         0  \n",
       "4         0         0         0         0  \n",
       "\n",
       "[5 rows x 785 columns]"
      ]
     },
     "execution_count": 3,
     "metadata": {},
     "output_type": "execute_result"
    }
   ],
   "source": [
    "##Train data \n",
    "train.info()\n",
    "\n",
    "train.head()"
   ]
  },
  {
   "cell_type": "code",
   "execution_count": null,
   "id": "6d8d39f0-5508-49d9-8a92-db9d0f1ccfe6",
   "metadata": {},
   "outputs": [],
   "source": [
    "#Exploring Data"
   ]
  },
  {
   "cell_type": "code",
   "execution_count": 16,
   "id": "95541d34-bcc4-4e06-afd2-5c580c9fca84",
   "metadata": {},
   "outputs": [
    {
     "data": {
      "text/plain": [
       "Index(['label', 'pixel1', 'pixel2', 'pixel3', 'pixel4', 'pixel5', 'pixel6',\n",
       "       'pixel7', 'pixel8', 'pixel9',\n",
       "       ...\n",
       "       'pixel775', 'pixel776', 'pixel777', 'pixel778', 'pixel779', 'pixel780',\n",
       "       'pixel781', 'pixel782', 'pixel783', 'pixel784'],\n",
       "      dtype='object', length=785)"
      ]
     },
     "execution_count": 16,
     "metadata": {},
     "output_type": "execute_result"
    }
   ],
   "source": [
    "train.keys()"
   ]
  },
  {
   "cell_type": "code",
   "execution_count": 4,
   "id": "ce602b46-ca15-40be-8d95-300f43ac3616",
   "metadata": {},
   "outputs": [],
   "source": [
    "xTrain = train.drop(['label'], axis=1).astype('float32').values.reshape(-1,28,28,1)\n",
    "yTrain = train['label'].astype('int32')\n",
    "xTest = test.drop(['label'], axis=1).astype('float32').values.reshape(-1,28,28,1)\n",
    "yTest = test['label'].astype('int32')"
   ]
  },
  {
   "cell_type": "code",
   "execution_count": 41,
   "id": "57825652-aedd-411f-8c2a-36dd13baa194",
   "metadata": {
    "tags": []
   },
   "outputs": [
    {
     "name": "stdout",
     "output_type": "stream",
     "text": [
      "yTrain Label:  9\n"
     ]
    },
    {
     "data": {
      "image/png": "[encoded data removed]",
      "text/plain": [
       "<Figure size 432x288 with 1 Axes>"
      ]
     },
     "metadata": {
      "needs_background": "light"
     },
     "output_type": "display_data"
    }
   ],
   "source": [
    "##Random image from data set\n",
    "# index = np.random.randint(1, xTrain.shape[0]+1)\n",
    "index = 1\n",
    "plt.imshow(xTrain[index][:,:,0], )\n",
    "plt.title(yTrain[index]);\n",
    "print('yTrain Label: ', yTrain[index])\n"
   ]
  },
  {
   "cell_type": "code",
   "execution_count": 39,
   "id": "26cd8609-9293-450c-a8ff-2084121f9aa5",
   "metadata": {},
   "outputs": [
    {
     "data": {
      "text/plain": [
       "array([[  0,   0,   0,   0,   0,   0,   0,   0,   0,   0,   0,   0,   0,\n",
       "          0,   0,   0,   0,   0,   0,   0,   0,   0,   0,   0,   0,   0,\n",
       "          0,   0],\n",
       "       [  0,   0,   0,   0,   0,   0,   0,   0,   0,   0,   0,   0,   0,\n",
       "          0,   0,   0,   0,   0,   0,   0,   0,   0,   0,   0,   0,   0,\n",
       "          0,   0],\n",
       "       [  0,   0,   0,   0,   0,   0,   0,   0,   0,   0,   0,   0,   0,\n",
       "          0,   0,   0,   0,   0,   0,   0,   0,   0,   0,   0,   0,   0,\n",
       "          0,   0],\n",
       "       [  0,   0,   0,   0,   0,   0,   0,   0,   0,   0,   0,   0,   0,\n",
       "          0,   0,   0,   0,   0,   0,   0,   0,   0,   0,   0,   0,   0,\n",
       "          0,   0],\n",
       "       [  0,   0,   0,   0,   0,   0,   0,   0,   0,   0,   0,   0,   0,\n",
       "          0,   0,   0,   0,   0,   0,   0,   0,   0,   0,   0,   0,   0,\n",
       "          0,   0],\n",
       "       [  0,   0,   0,   0,   0,   0,   0,   0,   0,   0,   0,   0,   0,\n",
       "          2,   0,  98, 210, 198, 204, 196, 172, 156, 136, 116,  71,  63,\n",
       "         18,   0],\n",
       "       [  0,   0,   0,   0,   0,   0,   0,   0,   0,   0,   0,   0,   0,\n",
       "          0,   0, 165, 235, 237, 228, 237, 241, 228, 254, 255, 231, 235,\n",
       "         98,   0],\n",
       "       [  0,   0,   0,   0,   0,   0,   0,   0,   0,   0,   0,   0,   2,\n",
       "          0,   0, 206, 207, 176, 156, 200, 206, 213, 216, 204, 206, 210,\n",
       "         35,   0],\n",
       "       [  0,   0,   0,   0,   0,   0,   0,   0,   0,   0,   0,   0,   2,\n",
       "          0,   0, 219, 235, 185, 220, 228, 223, 214, 217, 220, 214, 248,\n",
       "          5,   0],\n",
       "       [  0,   0,   0,   0,   0,   0,   0,   0,   0,   0,   0,   0,   1,\n",
       "          0,   9, 224, 194, 187, 188, 217, 238, 228, 221, 193, 206, 241,\n",
       "          0,   0],\n",
       "       [  0,   0,   0,   0,   0,   0,   0,   0,   0,   0,   0,   0,   0,\n",
       "          0,  67, 249, 184, 231, 215, 215, 221, 220, 244, 139, 159, 252,\n",
       "          0,   0],\n",
       "       [  0,   0,   0,   0,   0,   0,   0,   0,   0,   0,   0,   1,   0,\n",
       "          0, 185, 210, 211, 193, 212, 231, 222, 203, 221, 215, 222, 244,\n",
       "          0,   0],\n",
       "       [  0,   0,   0,   0,   0,   0,   1,   0,   1,   3,   0,   3,   0,\n",
       "         21, 255, 206, 209, 218, 228, 235, 244, 228, 216, 226, 203, 255,\n",
       "         31,   0],\n",
       "       [  0,   0,   0,   0,   0,   0,   0,   0,   0,   0,   6,   0,   0,\n",
       "        190, 218, 184, 216, 183, 235, 213, 209, 234, 140, 183, 211, 255,\n",
       "        115,   0],\n",
       "       [  0,   0,   0,   0,   0,   0,   0,   0,   0,   4,   0,   0, 132,\n",
       "        204,  86,  94, 222, 255, 239, 212, 219, 229, 193, 214, 211, 216,\n",
       "        213,   0],\n",
       "       [  0,   0,   0,   0,   0,   0,   0,   1,   0,   0,   0, 120, 188,\n",
       "        157, 197, 225, 231, 220, 217, 222, 229, 225, 231, 221, 218, 211,\n",
       "        252,  20],\n",
       "       [  1,   0,   0,   0,   1,   5,   3,   0,   0,   0, 132, 165, 169,\n",
       "        219, 228, 236, 225, 216, 211, 213, 197, 176, 193, 221, 213, 204,\n",
       "        255,  70],\n",
       "       [  0,   4,   3,   0,   0,   0,   0,   0,  75, 210, 214, 140, 188,\n",
       "        201, 203, 217, 219, 211, 193, 199, 214, 224, 227, 223, 218, 204,\n",
       "        251,  94],\n",
       "       [  0,   0,   0,   0,   7,  33, 121, 193, 181, 137,  43, 185, 228,\n",
       "        220, 230, 235, 231, 227, 212, 229, 233, 227, 228, 226, 218, 205,\n",
       "        243, 112],\n",
       "       [  0,   9, 116, 144, 153, 158,  91, 110,  74,  55, 184, 187, 212,\n",
       "        235, 230, 222, 205, 188, 177, 188, 193, 183, 181, 189, 191, 191,\n",
       "        227,  41],\n",
       "       [ 14, 180, 198, 186, 155,  84,  31, 138, 207, 178, 235, 220, 232,\n",
       "        231, 206, 180, 173, 195, 219, 208, 210, 198, 204, 206, 205, 217,\n",
       "        226,   0],\n",
       "       [113, 238, 224, 226, 232, 232, 245, 224, 240, 236, 226, 233, 211,\n",
       "        186, 193, 238, 255, 244, 146, 123, 249, 222, 230, 228, 217, 209,\n",
       "        221,   0],\n",
       "       [  0,  86, 181, 197, 216, 226, 255, 249, 233, 224, 221, 210, 217,\n",
       "        249, 231, 162,  71,   0,   0,  92, 255, 232, 255, 255, 255, 226,\n",
       "        255,  11],\n",
       "       [  0,   0,   0,   0,  29,  50,  85, 136, 161, 180, 187, 175, 139,\n",
       "         43,   0,   0,   0,   0,   0,  38, 104,  69,  74,  75,  71,  77,\n",
       "         72,   0],\n",
       "       [  0,   0,   0,   0,   0,   0,   0,   0,   0,   0,   0,   0,   0,\n",
       "          0,   0,   0,   0,   0,   0,   0,   0,   0,   0,   0,   0,   0,\n",
       "          0,   0],\n",
       "       [  0,   0,   0,   0,   0,   0,   0,   0,   0,   0,   0,   0,   0,\n",
       "          0,   0,   0,   0,   0,   0,   0,   0,   0,   0,   0,   0,   0,\n",
       "          0,   0],\n",
       "       [  0,   0,   0,   0,   0,   0,   0,   0,   0,   0,   0,   0,   0,\n",
       "          0,   0,   0,   0,   0,   0,   0,   0,   0,   0,   0,   0,   0,\n",
       "          0,   0],\n",
       "       [  0,   0,   0,   0,   0,   0,   0,   0,   0,   0,   0,   0,   0,\n",
       "          0,   0,   0,   0,   0,   0,   0,   0,   0,   0,   0,   0,   0,\n",
       "          0,   0]])"
      ]
     },
     "execution_count": 39,
     "metadata": {},
     "output_type": "execute_result"
    }
   ],
   "source": [
    "X_train.values[9].reshape(28,28)"
   ]
  },
  {
   "cell_type": "code",
   "execution_count": 45,
   "id": "0ebccf90-d40e-4b0d-9303-b483dc01feec",
   "metadata": {},
   "outputs": [
    {
     "data": {
      "text/plain": [
       "matrix([[  0.,   0.,   0.,   0.,   0.,   0.,   0.,   0.,   0.,   0.,\n",
       "           0.,   0.,   0.,   0.,   0.,   0.,   0.,   0.,   0.,   0.,\n",
       "           0.,   0.,   0.,   0.,   0.,   0.,   0.,   0.],\n",
       "        [  0.,   0.,   0.,   0.,   0.,   0.,   0.,   0.,   0.,   0.,\n",
       "           0.,   0.,   0.,   0.,   0.,   0.,   0.,   0.,   0.,   0.,\n",
       "           0.,   0.,   0.,   0.,   0.,   0.,   0.,   0.],\n",
       "        [  0.,   0.,   0.,   0.,   0.,   0.,   0.,   0.,   0.,   0.,\n",
       "           0.,   0.,   0.,   0.,   0.,   0.,   0.,   0.,   0.,   0.,\n",
       "           0.,   0.,   0.,   0.,   0.,   0.,   0.,   0.],\n",
       "        [  0.,   0.,   0.,   0.,   0.,   0.,   0.,   0.,   0.,   0.,\n",
       "           0.,   0.,   0.,   0.,   0.,   0.,   0.,   0.,   0.,   0.,\n",
       "           0.,   0.,   0.,   0.,   0.,   0.,   0.,   0.],\n",
       "        [  0.,   0.,   0.,   0.,   0.,   0.,   0.,   0.,   0.,   0.,\n",
       "           0.,   0.,   0.,   0.,   0.,   0.,   0.,   0.,   0.,   0.,\n",
       "           0.,   0.,   0.,   0.,   0.,   0.,   0.,   0.],\n",
       "        [  0.,   0.,   0.,   0.,   0.,   0.,   0.,   0.,   0.,   0.,\n",
       "           0.,   0.,   1.,   1.,   0.,   0.,   0.,   0.,  81.,  21.,\n",
       "           0.,   1.,   0.,   1.,   0.,   0.,   0.,   0.],\n",
       "        [  0.,   0.,   0.,   0.,   0.,   0.,   0.,   0.,   0.,   0.,\n",
       "           0.,   1.,   0.,   0.,   0.,   0.,   0.,  14., 200.,  49.,\n",
       "           0.,   0.,   0.,   0.,   0.,   0.,   0.,   0.],\n",
       "        [  0.,   0.,   0.,   0.,   0.,   0.,   0.,   0.,   2.,   1.,\n",
       "           1.,   1.,   0.,   1.,   0.,   0.,   0., 162., 184., 165.,\n",
       "          20.,   0.,   1.,   1.,   3.,   4.,   1.,   0.],\n",
       "        [  0.,   0.,   0.,   0.,   0.,   0.,   0.,   0.,   0.,   0.,\n",
       "           0.,   1.,   2.,   0.,   2.,   0., 120., 183., 154., 206.,\n",
       "          32.,   0.,   5.,   5.,   0.,   0.,   0.,   0.],\n",
       "        [  0.,   0.,   0.,   0.,   0.,   0.,   0.,   0.,   0.,   0.,\n",
       "           0.,   2.,   0.,   3.,   0.,  76., 227., 151., 139., 158.,\n",
       "           0.,   0.,   0.,   0.,   0.,  66.,  23.,   0.],\n",
       "        [  0.,   0.,   0.,   0.,   0.,   0.,   0.,   0.,   1.,   0.,\n",
       "           1.,   0.,   0.,   0.,  55., 224., 162., 143., 121., 204.,\n",
       "         236., 144.,  21.,  74.,  90., 190.,   8.,   0.],\n",
       "        [  0.,   0.,   0.,   0.,   0.,   0.,   0.,   0.,   0.,   1.,\n",
       "           0.,   0.,   0.,  42., 228., 160., 148., 125., 165., 223.,\n",
       "         208., 221., 246., 211., 174., 151.,   0.,   0.],\n",
       "        [  0.,   0.,   0.,   1.,   3.,   0.,   1.,   0.,   3.,   0.,\n",
       "           9.,   0.,  23., 230., 168., 147., 119., 163., 227., 206.,\n",
       "         200., 190., 206., 186., 139., 171.,  41.,   0.],\n",
       "        [  0.,   0.,   0.,   0.,   0.,   0.,   0.,   0.,   3.,   4.,\n",
       "           0.,  16., 209., 185., 139., 118., 181., 227., 209., 204.,\n",
       "         210., 199., 225., 157., 127., 190., 111.,   0.],\n",
       "        [  1.,   3.,   2.,   1.,   3.,   2.,   3.,   0.,   0.,   0.,\n",
       "          67., 214., 187., 139., 111., 191., 229., 203., 208., 208.,\n",
       "         196., 223., 188., 100., 128., 155., 112.,   0.],\n",
       "        [  0.,   0.,   0.,   0.,   0.,   0.,   0.,   0.,  48., 161.,\n",
       "         218., 171., 147., 116., 185., 235., 201., 209., 203., 204.,\n",
       "         220., 208., 126., 133., 162., 164., 187.,   0.],\n",
       "        [  0.,  12.,  16.,   9.,   4.,  19.,  73., 170., 211., 188.,\n",
       "         145., 149., 148., 136., 222., 218., 207., 208., 215., 224.,\n",
       "         193., 140., 146., 162., 156., 118., 203.,  37.],\n",
       "        [ 47., 255., 188., 187., 182., 203., 206., 182., 147., 140.,\n",
       "         148., 148., 148., 134., 180., 218., 221., 225., 204., 156.,\n",
       "         134., 139., 144., 140., 123.,  97., 206.,  30.],\n",
       "        [ 88., 203., 164., 167., 170., 161., 147., 147., 156., 159.,\n",
       "         153., 152., 155., 150., 134., 136., 153., 145., 136., 151.,\n",
       "         164., 168., 170., 166., 153., 130., 200.,  10.],\n",
       "        [131., 195., 150., 133., 132., 142., 160., 166., 162., 153.,\n",
       "         152., 153., 151., 154., 163., 147., 152., 163., 205., 208.,\n",
       "         174., 175., 178., 181., 168., 150., 196.,   1.],\n",
       "        [155., 228., 197., 172., 138., 123., 121., 122., 126., 129.,\n",
       "         135., 139., 144., 158., 177., 192., 239., 244., 178., 176.,\n",
       "         183., 179., 185., 177., 147., 148., 192.,   0.],\n",
       "        [  0.,  80., 196., 199., 212., 209., 190., 176., 170., 178.,\n",
       "         183., 192., 204., 204., 202., 144.,  59.,   3.,   0.,  67.,\n",
       "         217., 184., 188., 178., 166., 160., 188.,  13.],\n",
       "        [  0.,   0.,   0.,   3.,  51., 105., 179., 217., 235., 227.,\n",
       "         208., 201., 133.,  58.,   0.,   0.,   0.,   0.,   0.,  16.,\n",
       "         187., 194., 184., 185., 175., 181., 131.,   0.],\n",
       "        [  0.,   3.,   0.,   0.,   0.,   0.,   0.,   0.,   0.,   0.,\n",
       "           0.,   0.,   0.,   0.,   0.,   5.,   5.,   5.,   0.,   0.,\n",
       "           0.,   0.,   0.,   0.,   0.,   0.,   0.,   0.],\n",
       "        [  0.,   0.,   0.,   0.,   0.,   0.,   0.,   0.,   0.,   0.,\n",
       "           0.,   0.,   0.,   0.,   0.,   0.,   0.,   0.,   0.,   0.,\n",
       "           0.,   0.,   0.,   0.,   0.,   0.,   0.,   0.],\n",
       "        [  0.,   0.,   0.,   0.,   0.,   0.,   0.,   0.,   0.,   0.,\n",
       "           0.,   0.,   0.,   0.,   0.,   0.,   0.,   0.,   0.,   0.,\n",
       "           0.,   0.,   0.,   0.,   0.,   0.,   0.,   0.],\n",
       "        [  0.,   0.,   0.,   0.,   0.,   0.,   0.,   0.,   0.,   0.,\n",
       "           0.,   0.,   0.,   0.,   0.,   0.,   0.,   0.,   0.,   0.,\n",
       "           0.,   0.,   0.,   0.,   0.,   0.,   0.,   0.],\n",
       "        [  0.,   0.,   0.,   0.,   0.,   0.,   0.,   0.,   0.,   0.,\n",
       "           0.,   0.,   0.,   0.,   0.,   0.,   0.,   0.,   0.,   0.,\n",
       "           0.,   0.,   0.,   0.,   0.,   0.,   0.,   0.]], dtype=float32)"
      ]
     },
     "execution_count": 45,
     "metadata": {},
     "output_type": "execute_result"
    }
   ],
   "source": [
    "##corresponding matrix\n",
    "np.matrix(xTrain[index])"
   ]
  },
  {
   "cell_type": "code",
   "execution_count": 7,
   "id": "89edfea9-e2fc-4a5d-b020-acee5f0baced",
   "metadata": {},
   "outputs": [],
   "source": [
    "#Understand the data\n",
    "#There are 60000 images examples and each images is a 28x28 grayscale image\n",
    "#where it contains 10 classes and 785 columns."
   ]
  },
  {
   "cell_type": "code",
   "execution_count": 8,
   "id": "e0061652-78d1-4614-aab1-c9f1be39dbf5",
   "metadata": {},
   "outputs": [
    {
     "data": {
      "text/plain": [
       "0.0"
      ]
     },
     "execution_count": 8,
     "metadata": {},
     "output_type": "execute_result"
    }
   ],
   "source": [
    "#Minimum of the train data\n",
    "np.min(xTrain[index])"
   ]
  },
  {
   "cell_type": "code",
   "execution_count": 9,
   "id": "09fcc478-eb30-4e9f-ab30-fc61bd6dcef4",
   "metadata": {},
   "outputs": [
    {
     "data": {
      "text/plain": [
       "255.0"
      ]
     },
     "execution_count": 9,
     "metadata": {},
     "output_type": "execute_result"
    }
   ],
   "source": [
    "#Maximum of the train data\n",
    "np.max(xTrain[index])"
   ]
  },
  {
   "cell_type": "code",
   "execution_count": 10,
   "id": "3730afbb-fd34-4f4e-a2b1-0c5214fec074",
   "metadata": {},
   "outputs": [
    {
     "data": {
      "text/plain": [
       "((60000, 28, 28, 1), (60000,), (10000, 28, 28, 1))"
      ]
     },
     "execution_count": 10,
     "metadata": {},
     "output_type": "execute_result"
    }
   ],
   "source": [
    "#Count of images\n",
    "xTrain.shape, yTrain.shape, xTest.shape"
   ]
  },
  {
   "cell_type": "code",
   "execution_count": 11,
   "id": "f4208452-3f5e-4378-b354-85347836897d",
   "metadata": {},
   "outputs": [
    {
     "data": {
      "text/plain": [
       "array([0, 1, 2, 3, 4, 5, 6, 7, 8, 9])"
      ]
     },
     "execution_count": 11,
     "metadata": {},
     "output_type": "execute_result"
    }
   ],
   "source": [
    "#Count of label in dataset \n",
    "classes = train[\"label\"].unique()\n",
    "classes.sort()\n",
    "classes"
   ]
  },
  {
   "cell_type": "code",
   "execution_count": 12,
   "id": "014af82c-5605-40e9-a20b-6e92d5541a57",
   "metadata": {},
   "outputs": [],
   "source": [
    "#Build a Logistic Regression model"
   ]
  },
  {
   "cell_type": "code",
   "execution_count": 22,
   "id": "e1d4c64f-9cd9-4d99-a420-464b9bc0a697",
   "metadata": {},
   "outputs": [],
   "source": [
    "##Splittiing data and labels\n",
    "y = train[\"label\"]\n",
    "X = train.drop(columns=[\"label\"])"
   ]
  },
  {
   "cell_type": "code",
   "execution_count": 23,
   "id": "42c20dd6-61ef-4e1b-bbf4-f41fd1b7b561",
   "metadata": {},
   "outputs": [
    {
     "data": {
      "text/html": [
       "<div>\n",
       "<style scoped>\n",
       "    .dataframe tbody tr th:only-of-type {\n",
       "        vertical-align: middle;\n",
       "    }\n",
       "\n",
       "    .dataframe tbody tr th {\n",
       "        vertical-align: top;\n",
       "    }\n",
       "\n",
       "    .dataframe thead th {\n",
       "        text-align: right;\n",
       "    }\n",
       "</style>\n",
       "<table border=\"1\" class=\"dataframe\">\n",
       "  <thead>\n",
       "    <tr style=\"text-align: right;\">\n",
       "      <th></th>\n",
       "      <th>pixel1</th>\n",
       "      <th>pixel2</th>\n",
       "      <th>pixel3</th>\n",
       "      <th>pixel4</th>\n",
       "      <th>pixel5</th>\n",
       "      <th>pixel6</th>\n",
       "      <th>pixel7</th>\n",
       "      <th>pixel8</th>\n",
       "      <th>pixel9</th>\n",
       "      <th>pixel10</th>\n",
       "      <th>...</th>\n",
       "      <th>pixel775</th>\n",
       "      <th>pixel776</th>\n",
       "      <th>pixel777</th>\n",
       "      <th>pixel778</th>\n",
       "      <th>pixel779</th>\n",
       "      <th>pixel780</th>\n",
       "      <th>pixel781</th>\n",
       "      <th>pixel782</th>\n",
       "      <th>pixel783</th>\n",
       "      <th>pixel784</th>\n",
       "    </tr>\n",
       "  </thead>\n",
       "  <tbody>\n",
       "    <tr>\n",
       "      <th>25799</th>\n",
       "      <td>0</td>\n",
       "      <td>0</td>\n",
       "      <td>2</td>\n",
       "      <td>0</td>\n",
       "      <td>0</td>\n",
       "      <td>0</td>\n",
       "      <td>0</td>\n",
       "      <td>0</td>\n",
       "      <td>0</td>\n",
       "      <td>128</td>\n",
       "      <td>...</td>\n",
       "      <td>0</td>\n",
       "      <td>0</td>\n",
       "      <td>0</td>\n",
       "      <td>0</td>\n",
       "      <td>27</td>\n",
       "      <td>92</td>\n",
       "      <td>100</td>\n",
       "      <td>0</td>\n",
       "      <td>0</td>\n",
       "      <td>0</td>\n",
       "    </tr>\n",
       "    <tr>\n",
       "      <th>56172</th>\n",
       "      <td>0</td>\n",
       "      <td>0</td>\n",
       "      <td>0</td>\n",
       "      <td>0</td>\n",
       "      <td>0</td>\n",
       "      <td>0</td>\n",
       "      <td>0</td>\n",
       "      <td>2</td>\n",
       "      <td>0</td>\n",
       "      <td>0</td>\n",
       "      <td>...</td>\n",
       "      <td>170</td>\n",
       "      <td>135</td>\n",
       "      <td>79</td>\n",
       "      <td>0</td>\n",
       "      <td>0</td>\n",
       "      <td>1</td>\n",
       "      <td>0</td>\n",
       "      <td>0</td>\n",
       "      <td>0</td>\n",
       "      <td>0</td>\n",
       "    </tr>\n",
       "    <tr>\n",
       "      <th>7098</th>\n",
       "      <td>0</td>\n",
       "      <td>0</td>\n",
       "      <td>0</td>\n",
       "      <td>0</td>\n",
       "      <td>0</td>\n",
       "      <td>0</td>\n",
       "      <td>0</td>\n",
       "      <td>0</td>\n",
       "      <td>0</td>\n",
       "      <td>31</td>\n",
       "      <td>...</td>\n",
       "      <td>2</td>\n",
       "      <td>4</td>\n",
       "      <td>0</td>\n",
       "      <td>0</td>\n",
       "      <td>170</td>\n",
       "      <td>188</td>\n",
       "      <td>91</td>\n",
       "      <td>0</td>\n",
       "      <td>0</td>\n",
       "      <td>0</td>\n",
       "    </tr>\n",
       "    <tr>\n",
       "      <th>2602</th>\n",
       "      <td>0</td>\n",
       "      <td>0</td>\n",
       "      <td>0</td>\n",
       "      <td>0</td>\n",
       "      <td>0</td>\n",
       "      <td>0</td>\n",
       "      <td>0</td>\n",
       "      <td>0</td>\n",
       "      <td>0</td>\n",
       "      <td>0</td>\n",
       "      <td>...</td>\n",
       "      <td>0</td>\n",
       "      <td>0</td>\n",
       "      <td>1</td>\n",
       "      <td>0</td>\n",
       "      <td>0</td>\n",
       "      <td>75</td>\n",
       "      <td>62</td>\n",
       "      <td>23</td>\n",
       "      <td>0</td>\n",
       "      <td>0</td>\n",
       "    </tr>\n",
       "    <tr>\n",
       "      <th>15335</th>\n",
       "      <td>0</td>\n",
       "      <td>0</td>\n",
       "      <td>0</td>\n",
       "      <td>0</td>\n",
       "      <td>0</td>\n",
       "      <td>0</td>\n",
       "      <td>0</td>\n",
       "      <td>0</td>\n",
       "      <td>0</td>\n",
       "      <td>95</td>\n",
       "      <td>...</td>\n",
       "      <td>110</td>\n",
       "      <td>62</td>\n",
       "      <td>0</td>\n",
       "      <td>0</td>\n",
       "      <td>0</td>\n",
       "      <td>0</td>\n",
       "      <td>0</td>\n",
       "      <td>0</td>\n",
       "      <td>0</td>\n",
       "      <td>0</td>\n",
       "    </tr>\n",
       "  </tbody>\n",
       "</table>\n",
       "<p>5 rows × 784 columns</p>\n",
       "</div>"
      ],
      "text/plain": [
       "       pixel1  pixel2  pixel3  pixel4  pixel5  pixel6  pixel7  pixel8  pixel9  \\\n",
       "25799       0       0       2       0       0       0       0       0       0   \n",
       "56172       0       0       0       0       0       0       0       2       0   \n",
       "7098        0       0       0       0       0       0       0       0       0   \n",
       "2602        0       0       0       0       0       0       0       0       0   \n",
       "15335       0       0       0       0       0       0       0       0       0   \n",
       "\n",
       "       pixel10  ...  pixel775  pixel776  pixel777  pixel778  pixel779  \\\n",
       "25799      128  ...         0         0         0         0        27   \n",
       "56172        0  ...       170       135        79         0         0   \n",
       "7098        31  ...         2         4         0         0       170   \n",
       "2602         0  ...         0         0         1         0         0   \n",
       "15335       95  ...       110        62         0         0         0   \n",
       "\n",
       "       pixel780  pixel781  pixel782  pixel783  pixel784  \n",
       "25799        92       100         0         0         0  \n",
       "56172         1         0         0         0         0  \n",
       "7098        188        91         0         0         0  \n",
       "2602         75        62        23         0         0  \n",
       "15335         0         0         0         0         0  \n",
       "\n",
       "[5 rows x 784 columns]"
      ]
     },
     "execution_count": 23,
     "metadata": {},
     "output_type": "execute_result"
    }
   ],
   "source": [
    "##Split Train and Validation data\n",
    "X_train, X_validation, y_train, y_validation = train_test_split(X, y, test_size=0.33,random_state=42)\n",
    "X_train.head()"
   ]
  },
  {
   "cell_type": "code",
   "execution_count": 24,
   "id": "39d65f2c-dc64-4bad-b4b7-17ed8f8db3f3",
   "metadata": {},
   "outputs": [
    {
     "data": {
      "text/plain": [
       "Counter({2: 6000,\n",
       "         9: 6000,\n",
       "         6: 6000,\n",
       "         0: 6000,\n",
       "         3: 6000,\n",
       "         4: 6000,\n",
       "         5: 6000,\n",
       "         8: 6000,\n",
       "         7: 6000,\n",
       "         1: 6000})"
      ]
     },
     "execution_count": 24,
     "metadata": {},
     "output_type": "execute_result"
    }
   ],
   "source": [
    "from collections import Counter\n",
    "\n",
    "Counter(y)"
   ]
  },
  {
   "cell_type": "code",
   "execution_count": 25,
   "id": "3c0f43c3-ca20-4002-ac45-521122084574",
   "metadata": {},
   "outputs": [
    {
     "name": "stderr",
     "output_type": "stream",
     "text": [
      "/home/caity/anaconda3/lib/python3.9/site-packages/sklearn/linear_model/_logistic.py:444: ConvergenceWarning: lbfgs failed to converge (status=1):\n",
      "STOP: TOTAL NO. of ITERATIONS REACHED LIMIT.\n",
      "\n",
      "Increase the number of iterations (max_iter) or scale the data as shown in:\n",
      "    https://scikit-learn.org/stable/modules/preprocessing.html\n",
      "Please also refer to the documentation for alternative solver options:\n",
      "    https://scikit-learn.org/stable/modules/linear_model.html#logistic-regression\n",
      "  n_iter_i = _check_optimize_result(\n"
     ]
    }
   ],
   "source": [
    "##Train the model \n",
    "clf = LogisticRegression(solver = 'lbfgs', max_iter = 100).fit(X_train, y_train)\n"
   ]
  },
  {
   "cell_type": "code",
   "execution_count": 22,
   "id": "86750044-95e4-43e8-a532-882a51b16a3b",
   "metadata": {},
   "outputs": [
    {
     "data": {
      "text/plain": [
       "array([0, 1, 2, ..., 8, 8, 2])"
      ]
     },
     "execution_count": 22,
     "metadata": {},
     "output_type": "execute_result"
    }
   ],
   "source": [
    "##Split and predict test data\n",
    "yTest = test[\"label\"]\n",
    "XTest = test.drop(columns=[\"label\"])\n",
    "\n",
    "clf.predict(XTest)"
   ]
  },
  {
   "cell_type": "code",
   "execution_count": 23,
   "id": "8cc25629-0ef8-40d0-ab16-7f65139e32ba",
   "metadata": {},
   "outputs": [
    {
     "data": {
      "text/plain": [
       "array([7, 8, 8, ..., 4, 2, 8])"
      ]
     },
     "execution_count": 23,
     "metadata": {},
     "output_type": "execute_result"
    }
   ],
   "source": [
    "##Predict validation data\n",
    "clf.predict(X_validation)"
   ]
  },
  {
   "cell_type": "code",
   "execution_count": 24,
   "id": "e716b4ff-ca10-4c5d-98f1-d283c6bf6d6d",
   "metadata": {},
   "outputs": [
    {
     "data": {
      "text/plain": [
       "array([[1.58839579e-08, 2.80896819e-07, 2.67637515e-07, ...,\n",
       "        9.89081505e-01, 2.61537035e-04, 1.28604421e-03],\n",
       "       [8.66252775e-07, 1.09889072e-10, 3.22119575e-06, ...,\n",
       "        8.61190803e-14, 9.99803202e-01, 8.49100793e-15],\n",
       "       [1.35741993e-04, 4.84042333e-06, 6.19369643e-04, ...,\n",
       "        2.30226845e-09, 9.98212398e-01, 8.18148432e-08],\n",
       "       ...,\n",
       "       [1.47164365e-03, 1.95836605e-03, 3.55186894e-02, ...,\n",
       "        7.06865277e-13, 3.79712702e-04, 2.43600743e-13],\n",
       "       [1.37647483e-02, 4.23147558e-05, 8.89233112e-01, ...,\n",
       "        4.65203519e-16, 8.81286399e-03, 7.24263197e-12],\n",
       "       [6.65945187e-03, 1.10213964e-03, 1.10507106e-01, ...,\n",
       "        2.63389022e-08, 5.84495384e-01, 4.00966933e-10]])"
      ]
     },
     "execution_count": 24,
     "metadata": {},
     "output_type": "execute_result"
    }
   ],
   "source": [
    "##Predict proobability of validation data \n",
    "clf.predict_proba(X_validation)"
   ]
  },
  {
   "cell_type": "code",
   "execution_count": 25,
   "id": "65bed544-2770-4e07-9b81-a66a7502e539",
   "metadata": {},
   "outputs": [
    {
     "data": {
      "text/plain": [
       "0.8650995024875622"
      ]
     },
     "execution_count": 25,
     "metadata": {},
     "output_type": "execute_result"
    }
   ],
   "source": [
    "clf.score(X_train, y_train)"
   ]
  },
  {
   "cell_type": "code",
   "execution_count": 26,
   "id": "a67f0de7-d9f7-443f-9c6c-c6cd4b577fea",
   "metadata": {},
   "outputs": [
    {
     "data": {
      "text/plain": [
       "0.8474242424242424"
      ]
     },
     "execution_count": 26,
     "metadata": {},
     "output_type": "execute_result"
    }
   ],
   "source": [
    "clf.score(X_validation, y_validation)"
   ]
  },
  {
   "cell_type": "code",
   "execution_count": 27,
   "id": "1b63d8bf-090e-4bd6-8c7b-b97dcb734f21",
   "metadata": {},
   "outputs": [
    {
     "data": {
      "text/plain": [
       "0.8509"
      ]
     },
     "execution_count": 27,
     "metadata": {},
     "output_type": "execute_result"
    }
   ],
   "source": [
    "clf.score(XTest, yTest)"
   ]
  }
 ],
 "metadata": {
  "kernelspec": {
   "display_name": "Python 3 (ipykernel)",
   "language": "python",
   "name": "python3"
  },
  "language_info": {
   "codemirror_mode": {
    "name": "ipython",
    "version": 3
   },
   "file_extension": ".py",
   "mimetype": "text/x-python",
   "name": "python",
   "nbconvert_exporter": "python",
   "pygments_lexer": "ipython3",
   "version": "3.9.12"
  }
 },
 "nbformat": 4,
 "nbformat_minor": 5
}
